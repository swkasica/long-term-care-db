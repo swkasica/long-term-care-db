{
 "cells": [
  {
   "cell_type": "code",
   "execution_count": 65,
   "metadata": {
    "scrolled": true
   },
   "outputs": [
    {
     "data": {
      "text/html": [
       "<style>.container { width:100% !important; }</style>"
      ],
      "text/plain": [
       "<IPython.core.display.HTML object>"
      ]
     },
     "metadata": {},
     "output_type": "display_data"
    }
   ],
   "source": [
    "import pandas as pd\n",
    "import numpy as np\n",
    "from IPython.core.display import display, HTML\n",
    "display(HTML(\"<style>.container { width:100% !important; }</style>\"))"
   ]
  },
  {
   "cell_type": "markdown",
   "metadata": {},
   "source": [
    "<h3>This munging uses data scraped 3/25/2017</h3>"
   ]
  },
  {
   "cell_type": "markdown",
   "metadata": {},
   "source": [
    "The Department of Human Services provided us with seven spreadsheets that each have information about substantiated complaints against assisted living, residential care, and nursing facilities in Oregon. The purpose of this notebook is to mung them, standardizing the column names, removing unnecessary columns, and cleaning some fields. The second purpose of this notebook is to get initial ownership date for facilities from the owner_history table and assign it to each facility."
   ]
  },
  {
   "cell_type": "markdown",
   "metadata": {},
   "source": [
    "<h1>Complaints mung</h1>"
   ]
  },
  {
   "cell_type": "markdown",
   "metadata": {},
   "source": [
    "<h3>Start with the 10-year data that does not have narratives.</h3>"
   ]
  },
  {
   "cell_type": "markdown",
   "metadata": {},
   "source": [
    "<h4>Import, clean, concat.</h4>"
   ]
  },
  {
   "cell_type": "code",
   "execution_count": 66,
   "metadata": {},
   "outputs": [
    {
     "name": "stderr",
     "output_type": "stream",
     "text": [
      "/opt/conda/lib/python3.7/site-packages/pandas/util/_decorators.py:188: FutureWarning: The `sheetname` keyword is deprecated, use `sheet_name` instead\n",
      "  return func(*args, **kwargs)\n"
     ]
    }
   ],
   "source": [
    "#Five years of detailed complaint data for all four kinds of facilities (Residential Care, Assisted Living, Nursing, and Adult Foster Home)\n",
    "detailed = pd.read_excel('../../data/raw/Oregonian Abuse records 5 years May 2016.xlsx', header=3)\n",
    "#Ten years of non-detailed complaints for Nursing Facilities\n",
    "NF_complaints = pd.read_excel('../../data/raw/Copy of Oregonian Data Request Facility Abuse Records April 2016   Reviewed.xlsx',sheetname='NF Complaints')\n",
    "#Ten years of non-detailed complaints for Assisted Living Facilities\n",
    "ALF_complaints = pd.read_excel('../../data/raw/Copy of Oregonian Data Request Facility Abuse Records April 2016   Reviewed.xlsx',sheetname='ALF Complaints')\n",
    "#Ten years of non-detailed complaints for Residential Care Facilities\n",
    "RCF_complaints = pd.read_excel('../../data/raw/Copy of Oregonian Data Request Facility Abuse Records April 2016   Reviewed.xlsx',sheetname='RCF Complaints')"
   ]
  },
  {
   "cell_type": "code",
   "execution_count": 67,
   "metadata": {},
   "outputs": [],
   "source": [
    "#NF has an inconsistently named column\n",
    "NF_complaints.rename(columns={'Abuse_CbcAbuse': 'CbcAbuse'}, inplace=True)"
   ]
  },
  {
   "cell_type": "code",
   "execution_count": 68,
   "metadata": {},
   "outputs": [],
   "source": [
    "ten_year_complaints = pd.concat([RCF_complaints,ALF_complaints,NF_complaints], ignore_index=True).reset_index().drop('index',1)"
   ]
  },
  {
   "cell_type": "code",
   "execution_count": 69,
   "metadata": {},
   "outputs": [],
   "source": [
    "ten_year_complaints.rename(columns={'Abuse_Number':'abuse_number', 'Facility ID':'facility_id','Incident Date':'incident_date','Fac Type': 'facility_type',\n",
    "'Investigation Results':'results_1','FacilityInvestResultsAbuse':'results_2','FacilityInvestResultsRule':'results_3','OutcomeCode':'outcome_code',\n",
    "'CbcAbuse':'abuse_type'}, inplace=True)"
   ]
  },
  {
   "cell_type": "code",
   "execution_count": 70,
   "metadata": {},
   "outputs": [],
   "source": [
    "ten_year_complaints = ten_year_complaints[['abuse_number','facility_id','incident_date','results_1',\n",
    "                                           'results_2','results_3','outcome_code','abuse_type']][ten_year_complaints['abuse_number'].notnull()]"
   ]
  },
  {
   "cell_type": "markdown",
   "metadata": {},
   "source": [
    "<h4>There are 52 complaints that have been mislabelled as unsubstantiated.</h4>"
   ]
  },
  {
   "cell_type": "code",
   "execution_count": 71,
   "metadata": {},
   "outputs": [],
   "source": [
    "sub_comps = pd.read_excel('../../data/raw/52 mislabelled as unsubstantiated.xlsx', header=None, names=['abuse_number'])"
   ]
  },
  {
   "cell_type": "code",
   "execution_count": 72,
   "metadata": {},
   "outputs": [],
   "source": [
    "miss_comps = sub_comps.merge(ten_year_complaints, how = 'left', left_on='abuse_number',right_on='abuse_number')#.count()"
   ]
  },
  {
   "cell_type": "markdown",
   "metadata": {},
   "source": [
    "This dataset contains unsubstantiated complaints, which we don't need. There are three columns that indicate substantiation. A DHS person explained that if any one of them has the word 'substantiated,' then the complaint was substantiated. "
   ]
  },
  {
   "cell_type": "code",
   "execution_count": 73,
   "metadata": {},
   "outputs": [],
   "source": [
    "ten_year_complaints = ten_year_complaints[(ten_year_complaints['results_1']=='Substantiated')|\n",
    "                   (ten_year_complaints['results_2']=='Substantiated')|\n",
    "                   (ten_year_complaints['results_3']=='Substantiated')]"
   ]
  },
  {
   "cell_type": "code",
   "execution_count": 74,
   "metadata": {},
   "outputs": [],
   "source": [
    "ten_year_complaints = pd.concat([ten_year_complaints,miss_comps]).reset_index().drop('index',1)"
   ]
  },
  {
   "cell_type": "code",
   "execution_count": 75,
   "metadata": {},
   "outputs": [],
   "source": [
    "ten_year_ready = ten_year_complaints[['abuse_number','facility_id','incident_date','outcome_code','abuse_type']].reset_index().drop('index',1)"
   ]
  },
  {
   "cell_type": "markdown",
   "metadata": {},
   "source": [
    "<h3>Now we prepare the five-year, detailed data</h3>"
   ]
  },
  {
   "cell_type": "markdown",
   "metadata": {},
   "source": [
    "The 'detailed' data is a five-year set of substantiated complaints against all facilities, including adult foster homes, which we don't want."
   ]
  },
  {
   "cell_type": "code",
   "execution_count": 76,
   "metadata": {},
   "outputs": [],
   "source": [
    "detailed.rename(columns={'Abuse_Number':'abuse_number','Facility ID':'facility_id',\n",
    "                'Incident Date':'incident_date','Investigation Results':'results_1',\n",
    "                'Facility Invest Results Abuse':'results_2','Facility Invest Results Rule':'results_3',\n",
    "               'Outcome Code':'outcome_code','Action Notes':'action_notes','Outcome Notes':'outcome_notes',\n",
    "               'Cbc Abuse Indicator':'abuse_type', 'Facility Type':'facility_type'}, inplace=True)"
   ]
  },
  {
   "cell_type": "markdown",
   "metadata": {},
   "source": [
    "Drop Adult Foster Homes and select columns."
   ]
  },
  {
   "cell_type": "code",
   "execution_count": 77,
   "metadata": {},
   "outputs": [],
   "source": [
    "five_year_complaints = detailed[['abuse_number','facility_id','facility_type','incident_date','outcome_code',\n",
    "                      'action_notes','outcome_notes','abuse_type']][detailed['facility_type']!='AFH']"
   ]
  },
  {
   "cell_type": "markdown",
   "metadata": {},
   "source": [
    "No longer need the facility_type field."
   ]
  },
  {
   "cell_type": "code",
   "execution_count": 78,
   "metadata": {},
   "outputs": [],
   "source": [
    "five_year_ready = five_year_complaints.drop('facility_type',1)"
   ]
  },
  {
   "cell_type": "markdown",
   "metadata": {},
   "source": [
    "There are thousands of complaints that appear in both datasets. If a complaint is a duplicate, we want to keep the one that is in the five-year set, because that one has richer data. To do this, we will add a 'source' column to each dataframe, value '1' for the five-year data and '2' for the ten-year data. We will then sort based on that column, then de-duplicate on the abuse_number field, telling pandas to keep the first instance of the duplicate that it finds."
   ]
  },
  {
   "cell_type": "code",
   "execution_count": 79,
   "metadata": {},
   "outputs": [],
   "source": [
    "five_year_ready['source']=1"
   ]
  },
  {
   "cell_type": "code",
   "execution_count": 80,
   "metadata": {},
   "outputs": [],
   "source": [
    "ten_year_ready['source']=2"
   ]
  },
  {
   "cell_type": "code",
   "execution_count": 81,
   "metadata": {},
   "outputs": [
    {
     "name": "stderr",
     "output_type": "stream",
     "text": [
      "/opt/conda/lib/python3.7/site-packages/ipykernel_launcher.py:1: FutureWarning: Sorting because non-concatenation axis is not aligned. A future version\n",
      "of pandas will change to not sort by default.\n",
      "\n",
      "To accept the future behavior, pass 'sort=False'.\n",
      "\n",
      "To retain the current behavior and silence the warning, pass 'sort=True'.\n",
      "\n",
      "  \"\"\"Entry point for launching an IPython kernel.\n"
     ]
    }
   ],
   "source": [
    "five_ten_concat = pd.concat([five_year_ready,ten_year_ready])"
   ]
  },
  {
   "cell_type": "markdown",
   "metadata": {},
   "source": [
    "Set abuse_numbers to uppercase (three abuse numbers in ten-year data have lowercase)"
   ]
  },
  {
   "cell_type": "code",
   "execution_count": 82,
   "metadata": {},
   "outputs": [],
   "source": [
    "five_ten_concat['abuse_number'] = five_ten_concat['abuse_number'].apply(lambda x:x.upper())"
   ]
  },
  {
   "cell_type": "code",
   "execution_count": 83,
   "metadata": {},
   "outputs": [],
   "source": [
    "five_ten_concat = five_ten_concat.sort_values('source')"
   ]
  },
  {
   "cell_type": "code",
   "execution_count": 84,
   "metadata": {},
   "outputs": [],
   "source": [
    "complaints = five_ten_concat.drop_duplicates(subset='abuse_number', keep='first').reset_index().drop('index',1)"
   ]
  },
  {
   "cell_type": "markdown",
   "metadata": {},
   "source": [
    "Add a 'year' column based on incident date."
   ]
  },
  {
   "cell_type": "code",
   "execution_count": 85,
   "metadata": {},
   "outputs": [],
   "source": [
    "complaints['year']=complaints['incident_date'].dt.year.astype(int)"
   ]
  },
  {
   "cell_type": "code",
   "execution_count": 86,
   "metadata": {},
   "outputs": [
    {
     "data": {
      "text/plain": [
       "abuse_number     13705\n",
       "abuse_type       12478\n",
       "action_notes      6574\n",
       "facility_id      13705\n",
       "incident_date    13705\n",
       "outcome_code     13704\n",
       "outcome_notes     6544\n",
       "source           13705\n",
       "year             13705\n",
       "dtype: int64"
      ]
     },
     "execution_count": 86,
     "metadata": {},
     "output_type": "execute_result"
    }
   ],
   "source": [
    "complaints.count()"
   ]
  },
  {
   "cell_type": "code",
   "execution_count": 87,
   "metadata": {},
   "outputs": [],
   "source": [
    "complaints['abuse_type'].fillna('',inplace=True)"
   ]
  },
  {
   "cell_type": "markdown",
   "metadata": {},
   "source": [
    "<h3>Clean the abuse_type column</h3>"
   ]
  },
  {
   "cell_type": "code",
   "execution_count": 88,
   "metadata": {},
   "outputs": [],
   "source": [
    "complaints['abuse_type'] = complaints['abuse_type'].apply(lambda x: x.upper())"
   ]
  },
  {
   "cell_type": "code",
   "execution_count": 89,
   "metadata": {},
   "outputs": [],
   "source": [
    "complaints[\"abuse_type\"] = complaints[\"abuse_type\"].apply(dict([\n",
    "    ('0', ''),  \n",
    "    ('1', ''),  \n",
    "    ('2', ''),  \n",
    "    ('363', ''),  \n",
    "    ('I', ''),\n",
    "    ('A', 'A'),\n",
    "    ('L', 'L'),\n",
    "]).get).fillna('')"
   ]
  },
  {
   "cell_type": "markdown",
   "metadata": {},
   "source": [
    "<h2>Join with scraped complaints</h2>"
   ]
  },
  {
   "cell_type": "markdown",
   "metadata": {},
   "source": [
    "Complaints were scraped from https://apps.state.or.us/cf2/spd/facility_complaints/ using the script in `..scraper/DHS_scraper.py`"
   ]
  },
  {
   "cell_type": "code",
   "execution_count": 90,
   "metadata": {},
   "outputs": [],
   "source": [
    "scraped_comp = pd.read_csv('../../data/scraped/scraped_complaints_3_25.csv')"
   ]
  },
  {
   "cell_type": "markdown",
   "metadata": {},
   "source": [
    "Set all abuse numbers to upper case. "
   ]
  },
  {
   "cell_type": "code",
   "execution_count": 91,
   "metadata": {},
   "outputs": [],
   "source": [
    "scraped_comp['abuse_number'] = scraped_comp['abuse_number'].apply(lambda x: x.upper())"
   ]
  },
  {
   "cell_type": "code",
   "execution_count": 92,
   "metadata": {},
   "outputs": [],
   "source": [
    "scraped_comp = scraped_comp.drop_duplicates(subset='abuse_number').drop(['fac_type','inv_comp_date','city_name'],1)"
   ]
  },
  {
   "cell_type": "code",
   "execution_count": 93,
   "metadata": {},
   "outputs": [],
   "source": [
    "merged = complaints.merge(scraped_comp, how = 'left',on = 'abuse_number')"
   ]
  },
  {
   "cell_type": "code",
   "execution_count": 94,
   "metadata": {},
   "outputs": [],
   "source": [
    "merged['outcome_code'] = merged['outcome_code'].fillna(0)"
   ]
  },
  {
   "cell_type": "markdown",
   "metadata": {},
   "source": [
    "Add a column that tells us if the complaint has an equivalent online, based on the present of the online name."
   ]
  },
  {
   "cell_type": "code",
   "execution_count": 95,
   "metadata": {},
   "outputs": [],
   "source": [
    "merged['public'] = np.where(merged['fac_name'].notnull(),'online','offline')"
   ]
  },
  {
   "cell_type": "code",
   "execution_count": 96,
   "metadata": {},
   "outputs": [
    {
     "data": {
      "text/html": [
       "<div>\n",
       "<style scoped>\n",
       "    .dataframe tbody tr th:only-of-type {\n",
       "        vertical-align: middle;\n",
       "    }\n",
       "\n",
       "    .dataframe tbody tr th {\n",
       "        vertical-align: top;\n",
       "    }\n",
       "\n",
       "    .dataframe thead th {\n",
       "        text-align: right;\n",
       "    }\n",
       "</style>\n",
       "<table border=\"1\" class=\"dataframe\">\n",
       "  <thead>\n",
       "    <tr style=\"text-align: right;\">\n",
       "      <th></th>\n",
       "      <th>abuse_number</th>\n",
       "      <th>abuse_type</th>\n",
       "      <th>action_notes</th>\n",
       "      <th>facility_id</th>\n",
       "      <th>incident_date</th>\n",
       "      <th>outcome_code</th>\n",
       "      <th>outcome_notes</th>\n",
       "      <th>source</th>\n",
       "      <th>year</th>\n",
       "      <th>fac_name</th>\n",
       "      <th>online_incident_date</th>\n",
       "      <th>public</th>\n",
       "    </tr>\n",
       "  </thead>\n",
       "  <tbody>\n",
       "    <tr>\n",
       "      <th>0</th>\n",
       "      <td>OT105179A</td>\n",
       "      <td>L</td>\n",
       "      <td>The RP failed to provide appropriate care for ...</td>\n",
       "      <td>385008</td>\n",
       "      <td>2010-08-31</td>\n",
       "      <td>500.0</td>\n",
       "      <td>RV reported asking staff to change him/her pri...</td>\n",
       "      <td>1</td>\n",
       "      <td>2010</td>\n",
       "      <td>NaN</td>\n",
       "      <td>NaN</td>\n",
       "      <td>offline</td>\n",
       "    </tr>\n",
       "    <tr>\n",
       "      <th>1</th>\n",
       "      <td>RB149539</td>\n",
       "      <td>A</td>\n",
       "      <td>The facility failed to update the care plan to...</td>\n",
       "      <td>5MA254</td>\n",
       "      <td>2014-12-07</td>\n",
       "      <td>534.0</td>\n",
       "      <td>The facility failed to assess and intervene in...</td>\n",
       "      <td>1</td>\n",
       "      <td>2014</td>\n",
       "      <td>EMERITUS AT MANOR HOUSE</td>\n",
       "      <td>12/07/2014</td>\n",
       "      <td>online</td>\n",
       "    </tr>\n",
       "    <tr>\n",
       "      <th>2</th>\n",
       "      <td>RB149241</td>\n",
       "      <td></td>\n",
       "      <td>The facility failed to follow the care plan.</td>\n",
       "      <td>5MA254</td>\n",
       "      <td>2014-11-07</td>\n",
       "      <td>534.0</td>\n",
       "      <td>The facility allegedly failed to follow Reside...</td>\n",
       "      <td>1</td>\n",
       "      <td>2014</td>\n",
       "      <td>NaN</td>\n",
       "      <td>NaN</td>\n",
       "      <td>offline</td>\n",
       "    </tr>\n",
       "    <tr>\n",
       "      <th>3</th>\n",
       "      <td>RB145670</td>\n",
       "      <td>L</td>\n",
       "      <td>The facility failed to follow the care plan.</td>\n",
       "      <td>5MA254</td>\n",
       "      <td>2014-01-07</td>\n",
       "      <td>534.0</td>\n",
       "      <td>Reported Perpetrator 2 (RP2) failed to follow ...</td>\n",
       "      <td>1</td>\n",
       "      <td>2014</td>\n",
       "      <td>NaN</td>\n",
       "      <td>NaN</td>\n",
       "      <td>offline</td>\n",
       "    </tr>\n",
       "    <tr>\n",
       "      <th>4</th>\n",
       "      <td>RB135409</td>\n",
       "      <td>A</td>\n",
       "      <td>The facility failed to protect residents from ...</td>\n",
       "      <td>5MA254</td>\n",
       "      <td>2013-12-10</td>\n",
       "      <td>517.0</td>\n",
       "      <td>Resident #1 was care planned to be directed aw...</td>\n",
       "      <td>1</td>\n",
       "      <td>2013</td>\n",
       "      <td>EMERITUS AT MANOR HOUSE</td>\n",
       "      <td>12/10/2013</td>\n",
       "      <td>online</td>\n",
       "    </tr>\n",
       "  </tbody>\n",
       "</table>\n",
       "</div>"
      ],
      "text/plain": [
       "  abuse_number abuse_type                                       action_notes  \\\n",
       "0    OT105179A          L  The RP failed to provide appropriate care for ...   \n",
       "1     RB149539          A  The facility failed to update the care plan to...   \n",
       "2     RB149241                  The facility failed to follow the care plan.   \n",
       "3     RB145670          L       The facility failed to follow the care plan.   \n",
       "4     RB135409          A  The facility failed to protect residents from ...   \n",
       "\n",
       "  facility_id incident_date  outcome_code  \\\n",
       "0      385008    2010-08-31         500.0   \n",
       "1      5MA254    2014-12-07         534.0   \n",
       "2      5MA254    2014-11-07         534.0   \n",
       "3      5MA254    2014-01-07         534.0   \n",
       "4      5MA254    2013-12-10         517.0   \n",
       "\n",
       "                                       outcome_notes  source  year  \\\n",
       "0  RV reported asking staff to change him/her pri...       1  2010   \n",
       "1  The facility failed to assess and intervene in...       1  2014   \n",
       "2  The facility allegedly failed to follow Reside...       1  2014   \n",
       "3  Reported Perpetrator 2 (RP2) failed to follow ...       1  2014   \n",
       "4  Resident #1 was care planned to be directed aw...       1  2013   \n",
       "\n",
       "                  fac_name online_incident_date   public  \n",
       "0                      NaN                  NaN  offline  \n",
       "1  EMERITUS AT MANOR HOUSE           12/07/2014   online  \n",
       "2                      NaN                  NaN  offline  \n",
       "3                      NaN                  NaN  offline  \n",
       "4  EMERITUS AT MANOR HOUSE           12/10/2013   online  "
      ]
     },
     "execution_count": 96,
     "metadata": {},
     "output_type": "execute_result"
    }
   ],
   "source": [
    "# Added by Steve\n",
    "merged.head()"
   ]
  },
  {
   "cell_type": "markdown",
   "metadata": {},
   "source": [
    "<h3>Join to a lookup table for the code number</h3>"
   ]
  },
  {
   "cell_type": "code",
   "execution_count": 97,
   "metadata": {},
   "outputs": [],
   "source": [
    "codes = pd.read_excel('../../data/raw/OLRO Outcome Codes.xlsx', header=3)\n",
    "codes.rename(columns = {'Code':'outcome_code','Display Text':'outcome'}, inplace = True)\n",
    "codes['outcome_code'] = codes['outcome_code'].astype(str)\n",
    "codes = codes.drop('Definition',1)"
   ]
  },
  {
   "cell_type": "code",
   "execution_count": 98,
   "metadata": {},
   "outputs": [
    {
     "data": {
      "text/html": [
       "<div>\n",
       "<style scoped>\n",
       "    .dataframe tbody tr th:only-of-type {\n",
       "        vertical-align: middle;\n",
       "    }\n",
       "\n",
       "    .dataframe tbody tr th {\n",
       "        vertical-align: top;\n",
       "    }\n",
       "\n",
       "    .dataframe thead th {\n",
       "        text-align: right;\n",
       "    }\n",
       "</style>\n",
       "<table border=\"1\" class=\"dataframe\">\n",
       "  <thead>\n",
       "    <tr style=\"text-align: right;\">\n",
       "      <th></th>\n",
       "      <th>outcome_code</th>\n",
       "      <th>outcome</th>\n",
       "    </tr>\n",
       "  </thead>\n",
       "  <tbody>\n",
       "    <tr>\n",
       "      <th>0</th>\n",
       "      <td>400</td>\n",
       "      <td>Failed to submit timely or adequate staffing d...</td>\n",
       "    </tr>\n",
       "    <tr>\n",
       "      <th>1</th>\n",
       "      <td>401</td>\n",
       "      <td>Failed to properly post and maintain daily sta...</td>\n",
       "    </tr>\n",
       "    <tr>\n",
       "      <th>2</th>\n",
       "      <td>500</td>\n",
       "      <td>Loss of Dignity</td>\n",
       "    </tr>\n",
       "    <tr>\n",
       "      <th>3</th>\n",
       "      <td>501</td>\n",
       "      <td>Denied Choice In Treatment</td>\n",
       "    </tr>\n",
       "    <tr>\n",
       "      <th>4</th>\n",
       "      <td>502</td>\n",
       "      <td>Improperly Transferred Out of Facility, Denied...</td>\n",
       "    </tr>\n",
       "  </tbody>\n",
       "</table>\n",
       "</div>"
      ],
      "text/plain": [
       "  outcome_code                                            outcome\n",
       "0          400  Failed to submit timely or adequate staffing d...\n",
       "1          401  Failed to properly post and maintain daily sta...\n",
       "2          500                                    Loss of Dignity\n",
       "3          501                         Denied Choice In Treatment\n",
       "4          502  Improperly Transferred Out of Facility, Denied..."
      ]
     },
     "execution_count": 98,
     "metadata": {},
     "output_type": "execute_result"
    }
   ],
   "source": [
    "# Added by Steve, what's a lookup table? Is it a sort like a translation table? of tabular dictionary? \n",
    "codes.head()"
   ]
  },
  {
   "cell_type": "code",
   "execution_count": 99,
   "metadata": {},
   "outputs": [],
   "source": [
    "merged['outcome_code'] = merged['outcome_code'].astype(int).astype(str)"
   ]
  },
  {
   "cell_type": "code",
   "execution_count": 100,
   "metadata": {},
   "outputs": [
    {
     "name": "stdout",
     "output_type": "stream",
     "text": [
      "merged: 13705 | codes: 52\n"
     ]
    }
   ],
   "source": [
    "# Added by Steve\n",
    "print('merged: ' + str(merged.shape[0]) + ' | codes: ' + str(codes.shape[0]))"
   ]
  },
  {
   "cell_type": "code",
   "execution_count": 101,
   "metadata": {},
   "outputs": [],
   "source": [
    "merged = merged.merge(codes, how = 'left')"
   ]
  },
  {
   "cell_type": "code",
   "execution_count": 102,
   "metadata": {},
   "outputs": [
    {
     "data": {
      "text/html": [
       "<div>\n",
       "<style scoped>\n",
       "    .dataframe tbody tr th:only-of-type {\n",
       "        vertical-align: middle;\n",
       "    }\n",
       "\n",
       "    .dataframe tbody tr th {\n",
       "        vertical-align: top;\n",
       "    }\n",
       "\n",
       "    .dataframe thead th {\n",
       "        text-align: right;\n",
       "    }\n",
       "</style>\n",
       "<table border=\"1\" class=\"dataframe\">\n",
       "  <thead>\n",
       "    <tr style=\"text-align: right;\">\n",
       "      <th></th>\n",
       "      <th>abuse_number</th>\n",
       "      <th>abuse_type</th>\n",
       "      <th>action_notes</th>\n",
       "      <th>facility_id</th>\n",
       "      <th>incident_date</th>\n",
       "      <th>outcome_code</th>\n",
       "      <th>outcome_notes</th>\n",
       "      <th>source</th>\n",
       "      <th>year</th>\n",
       "      <th>fac_name</th>\n",
       "      <th>online_incident_date</th>\n",
       "      <th>public</th>\n",
       "      <th>outcome</th>\n",
       "    </tr>\n",
       "  </thead>\n",
       "  <tbody>\n",
       "    <tr>\n",
       "      <th>0</th>\n",
       "      <td>OT105179A</td>\n",
       "      <td>L</td>\n",
       "      <td>The RP failed to provide appropriate care for ...</td>\n",
       "      <td>385008</td>\n",
       "      <td>2010-08-31</td>\n",
       "      <td>500</td>\n",
       "      <td>RV reported asking staff to change him/her pri...</td>\n",
       "      <td>1</td>\n",
       "      <td>2010</td>\n",
       "      <td>NaN</td>\n",
       "      <td>NaN</td>\n",
       "      <td>offline</td>\n",
       "      <td>Loss of Dignity</td>\n",
       "    </tr>\n",
       "    <tr>\n",
       "      <th>1</th>\n",
       "      <td>RB149539</td>\n",
       "      <td>A</td>\n",
       "      <td>The facility failed to update the care plan to...</td>\n",
       "      <td>5MA254</td>\n",
       "      <td>2014-12-07</td>\n",
       "      <td>534</td>\n",
       "      <td>The facility failed to assess and intervene in...</td>\n",
       "      <td>1</td>\n",
       "      <td>2014</td>\n",
       "      <td>EMERITUS AT MANOR HOUSE</td>\n",
       "      <td>12/07/2014</td>\n",
       "      <td>online</td>\n",
       "      <td>Fall with Injury</td>\n",
       "    </tr>\n",
       "    <tr>\n",
       "      <th>2</th>\n",
       "      <td>RB149241</td>\n",
       "      <td></td>\n",
       "      <td>The facility failed to follow the care plan.</td>\n",
       "      <td>5MA254</td>\n",
       "      <td>2014-11-07</td>\n",
       "      <td>534</td>\n",
       "      <td>The facility allegedly failed to follow Reside...</td>\n",
       "      <td>1</td>\n",
       "      <td>2014</td>\n",
       "      <td>NaN</td>\n",
       "      <td>NaN</td>\n",
       "      <td>offline</td>\n",
       "      <td>Fall with Injury</td>\n",
       "    </tr>\n",
       "    <tr>\n",
       "      <th>3</th>\n",
       "      <td>RB145670</td>\n",
       "      <td>L</td>\n",
       "      <td>The facility failed to follow the care plan.</td>\n",
       "      <td>5MA254</td>\n",
       "      <td>2014-01-07</td>\n",
       "      <td>534</td>\n",
       "      <td>Reported Perpetrator 2 (RP2) failed to follow ...</td>\n",
       "      <td>1</td>\n",
       "      <td>2014</td>\n",
       "      <td>NaN</td>\n",
       "      <td>NaN</td>\n",
       "      <td>offline</td>\n",
       "      <td>Fall with Injury</td>\n",
       "    </tr>\n",
       "    <tr>\n",
       "      <th>4</th>\n",
       "      <td>RB135409</td>\n",
       "      <td>A</td>\n",
       "      <td>The facility failed to protect residents from ...</td>\n",
       "      <td>5MA254</td>\n",
       "      <td>2013-12-10</td>\n",
       "      <td>517</td>\n",
       "      <td>Resident #1 was care planned to be directed aw...</td>\n",
       "      <td>1</td>\n",
       "      <td>2013</td>\n",
       "      <td>EMERITUS AT MANOR HOUSE</td>\n",
       "      <td>12/10/2013</td>\n",
       "      <td>online</td>\n",
       "      <td>Negative Behavior Escalated, Affected Other Re...</td>\n",
       "    </tr>\n",
       "  </tbody>\n",
       "</table>\n",
       "</div>"
      ],
      "text/plain": [
       "  abuse_number abuse_type                                       action_notes  \\\n",
       "0    OT105179A          L  The RP failed to provide appropriate care for ...   \n",
       "1     RB149539          A  The facility failed to update the care plan to...   \n",
       "2     RB149241                  The facility failed to follow the care plan.   \n",
       "3     RB145670          L       The facility failed to follow the care plan.   \n",
       "4     RB135409          A  The facility failed to protect residents from ...   \n",
       "\n",
       "  facility_id incident_date outcome_code  \\\n",
       "0      385008    2010-08-31          500   \n",
       "1      5MA254    2014-12-07          534   \n",
       "2      5MA254    2014-11-07          534   \n",
       "3      5MA254    2014-01-07          534   \n",
       "4      5MA254    2013-12-10          517   \n",
       "\n",
       "                                       outcome_notes  source  year  \\\n",
       "0  RV reported asking staff to change him/her pri...       1  2010   \n",
       "1  The facility failed to assess and intervene in...       1  2014   \n",
       "2  The facility allegedly failed to follow Reside...       1  2014   \n",
       "3  Reported Perpetrator 2 (RP2) failed to follow ...       1  2014   \n",
       "4  Resident #1 was care planned to be directed aw...       1  2013   \n",
       "\n",
       "                  fac_name online_incident_date   public  \\\n",
       "0                      NaN                  NaN  offline   \n",
       "1  EMERITUS AT MANOR HOUSE           12/07/2014   online   \n",
       "2                      NaN                  NaN  offline   \n",
       "3                      NaN                  NaN  offline   \n",
       "4  EMERITUS AT MANOR HOUSE           12/10/2013   online   \n",
       "\n",
       "                                             outcome  \n",
       "0                                    Loss of Dignity  \n",
       "1                                   Fall with Injury  \n",
       "2                                   Fall with Injury  \n",
       "3                                   Fall with Injury  \n",
       "4  Negative Behavior Escalated, Affected Other Re...  "
      ]
     },
     "execution_count": 102,
     "metadata": {},
     "output_type": "execute_result"
    }
   ],
   "source": [
    "# added by Steve, so what just happened?\n",
    "merged.head()"
   ]
  },
  {
   "cell_type": "code",
   "execution_count": 103,
   "metadata": {},
   "outputs": [
    {
     "data": {
      "text/html": [
       "<div>\n",
       "<style scoped>\n",
       "    .dataframe tbody tr th:only-of-type {\n",
       "        vertical-align: middle;\n",
       "    }\n",
       "\n",
       "    .dataframe tbody tr th {\n",
       "        vertical-align: top;\n",
       "    }\n",
       "\n",
       "    .dataframe thead th {\n",
       "        text-align: right;\n",
       "    }\n",
       "</style>\n",
       "<table border=\"1\" class=\"dataframe\">\n",
       "  <thead>\n",
       "    <tr style=\"text-align: right;\">\n",
       "      <th></th>\n",
       "      <th>abuse_number</th>\n",
       "      <th>action_notes</th>\n",
       "      <th>facility_id</th>\n",
       "      <th>incident_date</th>\n",
       "      <th>outcome_code</th>\n",
       "      <th>outcome_notes</th>\n",
       "      <th>source</th>\n",
       "      <th>year</th>\n",
       "      <th>fac_name</th>\n",
       "      <th>online_incident_date</th>\n",
       "      <th>public</th>\n",
       "      <th>outcome</th>\n",
       "    </tr>\n",
       "    <tr>\n",
       "      <th>abuse_type</th>\n",
       "      <th></th>\n",
       "      <th></th>\n",
       "      <th></th>\n",
       "      <th></th>\n",
       "      <th></th>\n",
       "      <th></th>\n",
       "      <th></th>\n",
       "      <th></th>\n",
       "      <th></th>\n",
       "      <th></th>\n",
       "      <th></th>\n",
       "      <th></th>\n",
       "    </tr>\n",
       "  </thead>\n",
       "  <tbody>\n",
       "    <tr>\n",
       "      <th></th>\n",
       "      <td>1231</td>\n",
       "      <td>1219</td>\n",
       "      <td>1231</td>\n",
       "      <td>1231</td>\n",
       "      <td>1231</td>\n",
       "      <td>1166</td>\n",
       "      <td>1231</td>\n",
       "      <td>1231</td>\n",
       "      <td>426</td>\n",
       "      <td>426</td>\n",
       "      <td>1231</td>\n",
       "      <td>1230</td>\n",
       "    </tr>\n",
       "    <tr>\n",
       "      <th>A</th>\n",
       "      <td>3836</td>\n",
       "      <td>2101</td>\n",
       "      <td>3836</td>\n",
       "      <td>3836</td>\n",
       "      <td>3836</td>\n",
       "      <td>2120</td>\n",
       "      <td>3836</td>\n",
       "      <td>3836</td>\n",
       "      <td>3759</td>\n",
       "      <td>3759</td>\n",
       "      <td>3836</td>\n",
       "      <td>3836</td>\n",
       "    </tr>\n",
       "    <tr>\n",
       "      <th>L</th>\n",
       "      <td>8638</td>\n",
       "      <td>3254</td>\n",
       "      <td>8638</td>\n",
       "      <td>8638</td>\n",
       "      <td>8638</td>\n",
       "      <td>3258</td>\n",
       "      <td>8638</td>\n",
       "      <td>8638</td>\n",
       "      <td>1232</td>\n",
       "      <td>1232</td>\n",
       "      <td>8638</td>\n",
       "      <td>8636</td>\n",
       "    </tr>\n",
       "  </tbody>\n",
       "</table>\n",
       "</div>"
      ],
      "text/plain": [
       "            abuse_number  action_notes  facility_id  incident_date  \\\n",
       "abuse_type                                                           \n",
       "                    1231          1219         1231           1231   \n",
       "A                   3836          2101         3836           3836   \n",
       "L                   8638          3254         8638           8638   \n",
       "\n",
       "            outcome_code  outcome_notes  source  year  fac_name  \\\n",
       "abuse_type                                                        \n",
       "                    1231           1166    1231  1231       426   \n",
       "A                   3836           2120    3836  3836      3759   \n",
       "L                   8638           3258    8638  8638      1232   \n",
       "\n",
       "            online_incident_date  public  outcome  \n",
       "abuse_type                                         \n",
       "                             426    1231     1230  \n",
       "A                           3759    3836     3836  \n",
       "L                           1232    8638     8636  "
      ]
     },
     "execution_count": 103,
     "metadata": {},
     "output_type": "execute_result"
    }
   ],
   "source": [
    "merged.groupby('abuse_type').count()"
   ]
  },
  {
   "cell_type": "code",
   "execution_count": 104,
   "metadata": {},
   "outputs": [],
   "source": [
    "merged['fac_name'].fillna('',inplace=True)"
   ]
  },
  {
   "cell_type": "markdown",
   "metadata": {},
   "source": [
    "<h1>Join with facilities</h1>"
   ]
  },
  {
   "cell_type": "markdown",
   "metadata": {},
   "source": [
    "<h4>First, prep the facilities.</h4>"
   ]
  },
  {
   "cell_type": "code",
   "execution_count": 105,
   "metadata": {},
   "outputs": [],
   "source": [
    "facilities = pd.read_csv('../../data/raw/APD_FacilityRecords.csv')"
   ]
  },
  {
   "cell_type": "code",
   "execution_count": 106,
   "metadata": {},
   "outputs": [],
   "source": [
    "facilities.rename(columns={'FACID':'facid','Facility ID':'facility_id','FAC_CCMUNumber':'fac_ccmunumber','FAC_Type':'facility_type',\n",
    "                          'FAC_Capacity':'fac_capacity','Facility Name':'facility_name','Facility Address':'street',\n",
    "                          'Other Service':'other_service','Owner':'owner','Operator':'operator'}, inplace=True)"
   ]
  },
  {
   "cell_type": "markdown",
   "metadata": {},
   "source": [
    "Select the columns we need and drop the one duplicate in here. "
   ]
  },
  {
   "cell_type": "code",
   "execution_count": 107,
   "metadata": {},
   "outputs": [],
   "source": [
    "facilities = facilities[['facility_id','fac_ccmunumber','facility_type','fac_capacity','facility_name']].drop_duplicates(subset='facility_id', keep='last')"
   ]
  },
  {
   "cell_type": "markdown",
   "metadata": {},
   "source": [
    "Churchill Estates Residential Care has blank facility_type and capacity fields. The facility is an RCF and has 108 capacity. Info obtained from DHS PIO."
   ]
  },
  {
   "cell_type": "code",
   "execution_count": 108,
   "metadata": {},
   "outputs": [],
   "source": [
    "facilities.loc[318,'facility_type']='RCF'\n",
    "facilities.loc[318,'fac_capacity']=108"
   ]
  },
  {
   "cell_type": "markdown",
   "metadata": {},
   "source": [
    "<h3>Left join facilities to complaints.</h3>"
   ]
  },
  {
   "cell_type": "markdown",
   "metadata": {},
   "source": [
    "This eliminates complaints without facilities."
   ]
  },
  {
   "cell_type": "code",
   "execution_count": 109,
   "metadata": {},
   "outputs": [],
   "source": [
    "merged_comp_fac = facilities.merge(merged, on = 'facility_id',how = 'left')"
   ]
  },
  {
   "cell_type": "markdown",
   "metadata": {},
   "source": [
    "The analysis is only of complaints in 2005 or later. "
   ]
  },
  {
   "cell_type": "code",
   "execution_count": 110,
   "metadata": {},
   "outputs": [],
   "source": [
    "merged_comp_fac = merged_comp_fac[['abuse_number','facility_id','facility_type','facility_name','abuse_type','action_notes','incident_date','outcome','outcome_notes',\n",
    "                                   'year','fac_name','public']][merged_comp_fac['year']>2004]"
   ]
  },
  {
   "cell_type": "code",
   "execution_count": 111,
   "metadata": {},
   "outputs": [
    {
     "data": {
      "text/html": [
       "<div>\n",
       "<style scoped>\n",
       "    .dataframe tbody tr th:only-of-type {\n",
       "        vertical-align: middle;\n",
       "    }\n",
       "\n",
       "    .dataframe tbody tr th {\n",
       "        vertical-align: top;\n",
       "    }\n",
       "\n",
       "    .dataframe thead th {\n",
       "        text-align: right;\n",
       "    }\n",
       "</style>\n",
       "<table border=\"1\" class=\"dataframe\">\n",
       "  <thead>\n",
       "    <tr style=\"text-align: right;\">\n",
       "      <th></th>\n",
       "      <th>abuse_number</th>\n",
       "      <th>facility_id</th>\n",
       "      <th>facility_type</th>\n",
       "      <th>facility_name</th>\n",
       "      <th>abuse_type</th>\n",
       "      <th>action_notes</th>\n",
       "      <th>incident_date</th>\n",
       "      <th>outcome</th>\n",
       "      <th>outcome_notes</th>\n",
       "      <th>year</th>\n",
       "      <th>fac_name</th>\n",
       "      <th>public</th>\n",
       "    </tr>\n",
       "  </thead>\n",
       "  <tbody>\n",
       "    <tr>\n",
       "      <th>count</th>\n",
       "      <td>13032</td>\n",
       "      <td>13032</td>\n",
       "      <td>13032</td>\n",
       "      <td>13032</td>\n",
       "      <td>13032</td>\n",
       "      <td>6481</td>\n",
       "      <td>13032</td>\n",
       "      <td>13030</td>\n",
       "      <td>6450</td>\n",
       "      <td>13032.000000</td>\n",
       "      <td>13032</td>\n",
       "      <td>13032</td>\n",
       "    </tr>\n",
       "    <tr>\n",
       "      <th>unique</th>\n",
       "      <td>13032</td>\n",
       "      <td>599</td>\n",
       "      <td>3</td>\n",
       "      <td>599</td>\n",
       "      <td>3</td>\n",
       "      <td>3249</td>\n",
       "      <td>3727</td>\n",
       "      <td>49</td>\n",
       "      <td>6407</td>\n",
       "      <td>NaN</td>\n",
       "      <td>735</td>\n",
       "      <td>2</td>\n",
       "    </tr>\n",
       "    <tr>\n",
       "      <th>top</th>\n",
       "      <td>BH150570</td>\n",
       "      <td>5MA170</td>\n",
       "      <td>NF</td>\n",
       "      <td>Brookdale McMinnville Westside</td>\n",
       "      <td>L</td>\n",
       "      <td>The facility failed to provide a safe environm...</td>\n",
       "      <td>2014-11-14 00:00:00</td>\n",
       "      <td>Exposed to Potential Harm</td>\n",
       "      <td>Resident #1 had money go missing from his/her ...</td>\n",
       "      <td>NaN</td>\n",
       "      <td></td>\n",
       "      <td>offline</td>\n",
       "    </tr>\n",
       "    <tr>\n",
       "      <th>freq</th>\n",
       "      <td>1</td>\n",
       "      <td>127</td>\n",
       "      <td>4760</td>\n",
       "      <td>127</td>\n",
       "      <td>8133</td>\n",
       "      <td>367</td>\n",
       "      <td>15</td>\n",
       "      <td>2317</td>\n",
       "      <td>15</td>\n",
       "      <td>NaN</td>\n",
       "      <td>7856</td>\n",
       "      <td>7856</td>\n",
       "    </tr>\n",
       "    <tr>\n",
       "      <th>first</th>\n",
       "      <td>NaN</td>\n",
       "      <td>NaN</td>\n",
       "      <td>NaN</td>\n",
       "      <td>NaN</td>\n",
       "      <td>NaN</td>\n",
       "      <td>NaN</td>\n",
       "      <td>2005-01-01 00:00:00</td>\n",
       "      <td>NaN</td>\n",
       "      <td>NaN</td>\n",
       "      <td>NaN</td>\n",
       "      <td>NaN</td>\n",
       "      <td>NaN</td>\n",
       "    </tr>\n",
       "    <tr>\n",
       "      <th>last</th>\n",
       "      <td>NaN</td>\n",
       "      <td>NaN</td>\n",
       "      <td>NaN</td>\n",
       "      <td>NaN</td>\n",
       "      <td>NaN</td>\n",
       "      <td>NaN</td>\n",
       "      <td>2016-03-16 00:00:00</td>\n",
       "      <td>NaN</td>\n",
       "      <td>NaN</td>\n",
       "      <td>NaN</td>\n",
       "      <td>NaN</td>\n",
       "      <td>NaN</td>\n",
       "    </tr>\n",
       "    <tr>\n",
       "      <th>mean</th>\n",
       "      <td>NaN</td>\n",
       "      <td>NaN</td>\n",
       "      <td>NaN</td>\n",
       "      <td>NaN</td>\n",
       "      <td>NaN</td>\n",
       "      <td>NaN</td>\n",
       "      <td>NaN</td>\n",
       "      <td>NaN</td>\n",
       "      <td>NaN</td>\n",
       "      <td>2010.268416</td>\n",
       "      <td>NaN</td>\n",
       "      <td>NaN</td>\n",
       "    </tr>\n",
       "    <tr>\n",
       "      <th>std</th>\n",
       "      <td>NaN</td>\n",
       "      <td>NaN</td>\n",
       "      <td>NaN</td>\n",
       "      <td>NaN</td>\n",
       "      <td>NaN</td>\n",
       "      <td>NaN</td>\n",
       "      <td>NaN</td>\n",
       "      <td>NaN</td>\n",
       "      <td>NaN</td>\n",
       "      <td>3.198269</td>\n",
       "      <td>NaN</td>\n",
       "      <td>NaN</td>\n",
       "    </tr>\n",
       "    <tr>\n",
       "      <th>min</th>\n",
       "      <td>NaN</td>\n",
       "      <td>NaN</td>\n",
       "      <td>NaN</td>\n",
       "      <td>NaN</td>\n",
       "      <td>NaN</td>\n",
       "      <td>NaN</td>\n",
       "      <td>NaN</td>\n",
       "      <td>NaN</td>\n",
       "      <td>NaN</td>\n",
       "      <td>2005.000000</td>\n",
       "      <td>NaN</td>\n",
       "      <td>NaN</td>\n",
       "    </tr>\n",
       "    <tr>\n",
       "      <th>25%</th>\n",
       "      <td>NaN</td>\n",
       "      <td>NaN</td>\n",
       "      <td>NaN</td>\n",
       "      <td>NaN</td>\n",
       "      <td>NaN</td>\n",
       "      <td>NaN</td>\n",
       "      <td>NaN</td>\n",
       "      <td>NaN</td>\n",
       "      <td>NaN</td>\n",
       "      <td>2008.000000</td>\n",
       "      <td>NaN</td>\n",
       "      <td>NaN</td>\n",
       "    </tr>\n",
       "    <tr>\n",
       "      <th>50%</th>\n",
       "      <td>NaN</td>\n",
       "      <td>NaN</td>\n",
       "      <td>NaN</td>\n",
       "      <td>NaN</td>\n",
       "      <td>NaN</td>\n",
       "      <td>NaN</td>\n",
       "      <td>NaN</td>\n",
       "      <td>NaN</td>\n",
       "      <td>NaN</td>\n",
       "      <td>2010.000000</td>\n",
       "      <td>NaN</td>\n",
       "      <td>NaN</td>\n",
       "    </tr>\n",
       "    <tr>\n",
       "      <th>75%</th>\n",
       "      <td>NaN</td>\n",
       "      <td>NaN</td>\n",
       "      <td>NaN</td>\n",
       "      <td>NaN</td>\n",
       "      <td>NaN</td>\n",
       "      <td>NaN</td>\n",
       "      <td>NaN</td>\n",
       "      <td>NaN</td>\n",
       "      <td>NaN</td>\n",
       "      <td>2013.000000</td>\n",
       "      <td>NaN</td>\n",
       "      <td>NaN</td>\n",
       "    </tr>\n",
       "    <tr>\n",
       "      <th>max</th>\n",
       "      <td>NaN</td>\n",
       "      <td>NaN</td>\n",
       "      <td>NaN</td>\n",
       "      <td>NaN</td>\n",
       "      <td>NaN</td>\n",
       "      <td>NaN</td>\n",
       "      <td>NaN</td>\n",
       "      <td>NaN</td>\n",
       "      <td>NaN</td>\n",
       "      <td>2016.000000</td>\n",
       "      <td>NaN</td>\n",
       "      <td>NaN</td>\n",
       "    </tr>\n",
       "  </tbody>\n",
       "</table>\n",
       "</div>"
      ],
      "text/plain": [
       "       abuse_number facility_id facility_type                   facility_name  \\\n",
       "count         13032       13032         13032                           13032   \n",
       "unique        13032         599             3                             599   \n",
       "top        BH150570      5MA170            NF  Brookdale McMinnville Westside   \n",
       "freq              1         127          4760                             127   \n",
       "first           NaN         NaN           NaN                             NaN   \n",
       "last            NaN         NaN           NaN                             NaN   \n",
       "mean            NaN         NaN           NaN                             NaN   \n",
       "std             NaN         NaN           NaN                             NaN   \n",
       "min             NaN         NaN           NaN                             NaN   \n",
       "25%             NaN         NaN           NaN                             NaN   \n",
       "50%             NaN         NaN           NaN                             NaN   \n",
       "75%             NaN         NaN           NaN                             NaN   \n",
       "max             NaN         NaN           NaN                             NaN   \n",
       "\n",
       "       abuse_type                                       action_notes  \\\n",
       "count       13032                                               6481   \n",
       "unique          3                                               3249   \n",
       "top             L  The facility failed to provide a safe environm...   \n",
       "freq         8133                                                367   \n",
       "first         NaN                                                NaN   \n",
       "last          NaN                                                NaN   \n",
       "mean          NaN                                                NaN   \n",
       "std           NaN                                                NaN   \n",
       "min           NaN                                                NaN   \n",
       "25%           NaN                                                NaN   \n",
       "50%           NaN                                                NaN   \n",
       "75%           NaN                                                NaN   \n",
       "max           NaN                                                NaN   \n",
       "\n",
       "              incident_date                    outcome  \\\n",
       "count                 13032                      13030   \n",
       "unique                 3727                         49   \n",
       "top     2014-11-14 00:00:00  Exposed to Potential Harm   \n",
       "freq                     15                       2317   \n",
       "first   2005-01-01 00:00:00                        NaN   \n",
       "last    2016-03-16 00:00:00                        NaN   \n",
       "mean                    NaN                        NaN   \n",
       "std                     NaN                        NaN   \n",
       "min                     NaN                        NaN   \n",
       "25%                     NaN                        NaN   \n",
       "50%                     NaN                        NaN   \n",
       "75%                     NaN                        NaN   \n",
       "max                     NaN                        NaN   \n",
       "\n",
       "                                            outcome_notes          year  \\\n",
       "count                                                6450  13032.000000   \n",
       "unique                                               6407           NaN   \n",
       "top     Resident #1 had money go missing from his/her ...           NaN   \n",
       "freq                                                   15           NaN   \n",
       "first                                                 NaN           NaN   \n",
       "last                                                  NaN           NaN   \n",
       "mean                                                  NaN   2010.268416   \n",
       "std                                                   NaN      3.198269   \n",
       "min                                                   NaN   2005.000000   \n",
       "25%                                                   NaN   2008.000000   \n",
       "50%                                                   NaN   2010.000000   \n",
       "75%                                                   NaN   2013.000000   \n",
       "max                                                   NaN   2016.000000   \n",
       "\n",
       "       fac_name   public  \n",
       "count     13032    13032  \n",
       "unique      735        2  \n",
       "top              offline  \n",
       "freq       7856     7856  \n",
       "first       NaN      NaN  \n",
       "last        NaN      NaN  \n",
       "mean        NaN      NaN  \n",
       "std         NaN      NaN  \n",
       "min         NaN      NaN  \n",
       "25%         NaN      NaN  \n",
       "50%         NaN      NaN  \n",
       "75%         NaN      NaN  \n",
       "max         NaN      NaN  "
      ]
     },
     "execution_count": 111,
     "metadata": {},
     "output_type": "execute_result"
    }
   ],
   "source": [
    "# Added by Steve\n",
    "merged_comp_fac.describe(include='all')"
   ]
  },
  {
   "cell_type": "markdown",
   "metadata": {},
   "source": [
    "merged_comp_fac has all the complaints we need for the complaints analysis."
   ]
  },
  {
   "cell_type": "markdown",
   "metadata": {},
   "source": [
    "<h2>Aggregate data by facility</h2>"
   ]
  },
  {
   "cell_type": "code",
   "execution_count": 112,
   "metadata": {},
   "outputs": [],
   "source": [
    "complaint_pivot = merged_comp_fac.pivot_table(values='abuse_number',index='facility_id',columns='public', aggfunc='count').reset_index()"
   ]
  },
  {
   "cell_type": "code",
   "execution_count": 113,
   "metadata": {},
   "outputs": [
    {
     "data": {
      "text/html": [
       "<div>\n",
       "<style scoped>\n",
       "    .dataframe tbody tr th:only-of-type {\n",
       "        vertical-align: middle;\n",
       "    }\n",
       "\n",
       "    .dataframe tbody tr th {\n",
       "        vertical-align: top;\n",
       "    }\n",
       "\n",
       "    .dataframe thead th {\n",
       "        text-align: right;\n",
       "    }\n",
       "</style>\n",
       "<table border=\"1\" class=\"dataframe\">\n",
       "  <thead>\n",
       "    <tr style=\"text-align: right;\">\n",
       "      <th>public</th>\n",
       "      <th>facility_id</th>\n",
       "      <th>offline</th>\n",
       "      <th>online</th>\n",
       "    </tr>\n",
       "  </thead>\n",
       "  <tbody>\n",
       "    <tr>\n",
       "      <th>0</th>\n",
       "      <td>385008</td>\n",
       "      <td>14.0</td>\n",
       "      <td>7.0</td>\n",
       "    </tr>\n",
       "    <tr>\n",
       "      <th>1</th>\n",
       "      <td>385010</td>\n",
       "      <td>29.0</td>\n",
       "      <td>15.0</td>\n",
       "    </tr>\n",
       "    <tr>\n",
       "      <th>2</th>\n",
       "      <td>385015</td>\n",
       "      <td>27.0</td>\n",
       "      <td>8.0</td>\n",
       "    </tr>\n",
       "    <tr>\n",
       "      <th>3</th>\n",
       "      <td>385018</td>\n",
       "      <td>18.0</td>\n",
       "      <td>5.0</td>\n",
       "    </tr>\n",
       "    <tr>\n",
       "      <th>4</th>\n",
       "      <td>385024</td>\n",
       "      <td>67.0</td>\n",
       "      <td>27.0</td>\n",
       "    </tr>\n",
       "  </tbody>\n",
       "</table>\n",
       "</div>"
      ],
      "text/plain": [
       "public facility_id  offline  online\n",
       "0           385008     14.0     7.0\n",
       "1           385010     29.0    15.0\n",
       "2           385015     27.0     8.0\n",
       "3           385018     18.0     5.0\n",
       "4           385024     67.0    27.0"
      ]
     },
     "execution_count": 113,
     "metadata": {},
     "output_type": "execute_result"
    }
   ],
   "source": [
    "# Added by Steve\n",
    "complaint_pivot.head()"
   ]
  },
  {
   "cell_type": "markdown",
   "metadata": {},
   "source": [
    "Next, left join the facilities to the pivot table."
   ]
  },
  {
   "cell_type": "code",
   "execution_count": 114,
   "metadata": {},
   "outputs": [],
   "source": [
    "fac_pivot_merge = facilities.merge(complaint_pivot, how='left',on='facility_id')"
   ]
  },
  {
   "cell_type": "code",
   "execution_count": 115,
   "metadata": {},
   "outputs": [
    {
     "data": {
      "text/html": [
       "<div>\n",
       "<style scoped>\n",
       "    .dataframe tbody tr th:only-of-type {\n",
       "        vertical-align: middle;\n",
       "    }\n",
       "\n",
       "    .dataframe tbody tr th {\n",
       "        vertical-align: top;\n",
       "    }\n",
       "\n",
       "    .dataframe thead th {\n",
       "        text-align: right;\n",
       "    }\n",
       "</style>\n",
       "<table border=\"1\" class=\"dataframe\">\n",
       "  <thead>\n",
       "    <tr style=\"text-align: right;\">\n",
       "      <th></th>\n",
       "      <th>facility_id</th>\n",
       "      <th>fac_ccmunumber</th>\n",
       "      <th>facility_type</th>\n",
       "      <th>fac_capacity</th>\n",
       "      <th>facility_name</th>\n",
       "      <th>offline</th>\n",
       "      <th>online</th>\n",
       "    </tr>\n",
       "  </thead>\n",
       "  <tbody>\n",
       "    <tr>\n",
       "      <th>0</th>\n",
       "      <td>385008</td>\n",
       "      <td>385008</td>\n",
       "      <td>NF</td>\n",
       "      <td>96.0</td>\n",
       "      <td>Presbyterian Community Care Center</td>\n",
       "      <td>14.0</td>\n",
       "      <td>7.0</td>\n",
       "    </tr>\n",
       "    <tr>\n",
       "      <th>1</th>\n",
       "      <td>385010</td>\n",
       "      <td>385010</td>\n",
       "      <td>NF</td>\n",
       "      <td>159.0</td>\n",
       "      <td>Laurelhurst Village Rehabilitation Center</td>\n",
       "      <td>29.0</td>\n",
       "      <td>15.0</td>\n",
       "    </tr>\n",
       "    <tr>\n",
       "      <th>2</th>\n",
       "      <td>385015</td>\n",
       "      <td>385015</td>\n",
       "      <td>NF</td>\n",
       "      <td>128.0</td>\n",
       "      <td>Regency Gresham Nursing &amp; Rehabilitation Center</td>\n",
       "      <td>27.0</td>\n",
       "      <td>8.0</td>\n",
       "    </tr>\n",
       "    <tr>\n",
       "      <th>3</th>\n",
       "      <td>385018</td>\n",
       "      <td>385018</td>\n",
       "      <td>NF</td>\n",
       "      <td>98.0</td>\n",
       "      <td>Providence Benedictine Nursing Center</td>\n",
       "      <td>18.0</td>\n",
       "      <td>5.0</td>\n",
       "    </tr>\n",
       "    <tr>\n",
       "      <th>4</th>\n",
       "      <td>385024</td>\n",
       "      <td>385024</td>\n",
       "      <td>NF</td>\n",
       "      <td>91.0</td>\n",
       "      <td>Avamere Health Services of Rogue Valley</td>\n",
       "      <td>67.0</td>\n",
       "      <td>27.0</td>\n",
       "    </tr>\n",
       "  </tbody>\n",
       "</table>\n",
       "</div>"
      ],
      "text/plain": [
       "  facility_id fac_ccmunumber facility_type  fac_capacity  \\\n",
       "0      385008         385008            NF          96.0   \n",
       "1      385010         385010            NF         159.0   \n",
       "2      385015         385015            NF         128.0   \n",
       "3      385018         385018            NF          98.0   \n",
       "4      385024         385024            NF          91.0   \n",
       "\n",
       "                                     facility_name  offline  online  \n",
       "0               Presbyterian Community Care Center     14.0     7.0  \n",
       "1        Laurelhurst Village Rehabilitation Center     29.0    15.0  \n",
       "2  Regency Gresham Nursing & Rehabilitation Center     27.0     8.0  \n",
       "3            Providence Benedictine Nursing Center     18.0     5.0  \n",
       "4          Avamere Health Services of Rogue Valley     67.0    27.0  "
      ]
     },
     "execution_count": 115,
     "metadata": {},
     "output_type": "execute_result"
    }
   ],
   "source": [
    "# Added by Steve\n",
    "fac_pivot_merge.head()"
   ]
  },
  {
   "cell_type": "markdown",
   "metadata": {},
   "source": [
    "<h2>Add our own outcome code</h2>"
   ]
  },
  {
   "cell_type": "code",
   "execution_count": 116,
   "metadata": {},
   "outputs": [
    {
     "data": {
      "text/plain": [
       "array(['Loss of Dignity', 'Medical Condition Developed or Worsened',\n",
       "       'Burned', 'Fractured Bone', 'Exposed to Potential Harm',\n",
       "       'Fall with Injury', 'Incontinence',\n",
       "       'Received Incorrect or Wrong Dose of Medication(s)',\n",
       "       'Fall Without Injury',\n",
       "       'Transfer Resulting In Skin Injury or Bruise',\n",
       "       'Mentally or Emotionally Abused',\n",
       "       'The resident did not receive an ordered medication',\n",
       "       'Fall Resulting In Fractured Bone(s)',\n",
       "       'Improperly Transferred Out of Facility, Denied Readmission or Inappropriate Move Within Facility',\n",
       "       'Bruised', 'Transfer To Hospital For Treatment',\n",
       "       'Negative Behavior Escalated, Affected Other Resident(s)',\n",
       "       'Injury During Self-Transfer', 'Decubitus Ulcer(s) Worsened',\n",
       "       'Loss of Medication', 'Fall Resulting In Fractured Hip',\n",
       "       'Skin Injury', 'Loss of Resident Property',\n",
       "       'Unreasonable Discomfort', 'Decubitus Ulcer(s) Developed',\n",
       "       'Pain And Suffering Continued', 'Financially Exploited',\n",
       "       'Poor Continuity Of Care', 'Verbally Abused',\n",
       "       'Failed to Receive Needed Services',\n",
       "       'Failed To Have Quality of Life Maintained or Enhanced',\n",
       "       'Physically Abused', 'No Negative Outcome',\n",
       "       'Denied Choice In Treatment', 'Deceased', 'Inadequate Hygiene',\n",
       "       'Undesirable Weight Loss',\n",
       "       'Facility was understaffed with no negative outcome',\n",
       "       'Sexually Abused', 'Left Facility Without Assistance With Injury',\n",
       "       'Involuntarily Secluded', 'Corporally Punished',\n",
       "       'Transfer Resulting In Fracture Bone(s)',\n",
       "       'Left facility without assistance without injury',\n",
       "       'Transfer Resulting In Fractured Hip', 'Fractured Hip', nan,\n",
       "       'Urinary Tract Infection Worsened',\n",
       "       'Unable to timely assess adequacy of staffing', 'Raped'],\n",
       "      dtype=object)"
      ]
     },
     "execution_count": 116,
     "metadata": {},
     "output_type": "execute_result"
    }
   ],
   "source": [
    "# Added by Steve\n",
    "merged_comp_fac[\"outcome\"].unique()"
   ]
  },
  {
   "cell_type": "code",
   "execution_count": 117,
   "metadata": {},
   "outputs": [
    {
     "data": {
      "text/plain": [
       "{'No Negative Outcome': 'Potential harm'}"
      ]
     },
     "execution_count": 117,
     "metadata": {},
     "output_type": "execute_result"
    }
   ],
   "source": [
    "# Added by Steve\n",
    "dict([('No Negative Outcome', 'Potential harm')])"
   ]
  },
  {
   "cell_type": "code",
   "execution_count": 118,
   "metadata": {},
   "outputs": [],
   "source": [
    "merged_comp_fac[\"omg_outcome\"] = merged_comp_fac[\"outcome\"].apply(dict([\n",
    "    ('No Negative Outcome', 'Potential harm'),\n",
    "    ('Exposed to Potential Harm', 'Potential harm'),\n",
    "            \n",
    "    ('Fall Without Injury', 'Fall, no injury'),\n",
    "            \n",
    "    ('Left facility without assistance without injury', 'Left facility without attendant, no injury'),\n",
    "            \n",
    "    ('Loss of Dignity', 'Loss of Dignity'),\n",
    "            \n",
    "    ('Fall with Injury', 'Fracture or other injury'),\n",
    "    ('Injury During Self-Transfer', 'Fracture or other injury'),\n",
    "    ('Fall Resulting In Fractured Bone(s)', 'Fracture or other injury'),\n",
    "    ('Fall Resulting In Fractured Hip', 'Fracture or other injury'),\n",
    "    ('Transfer Resulting In Skin Injury or Bruise', 'Fracture or other injury'),\n",
    "    ('Fractured Bone', 'Fracture or other injury'),\n",
    "    ('Fractured Hip', 'Fracture or other injury'),\n",
    "    ('Burned', 'Fracture or other injury'),\n",
    "    ('Transfer Resulting In Fractured Hip', 'Fracture or other injury'),\n",
    "    ('Transfer Resulting In Fracture Bone(s)', 'Fracture or other injury'),\n",
    "    ('Left Facility Without Assistance With Injury', 'Fracture or other injury'),\n",
    "    ('Bruised', 'Fracture or other injury'),\n",
    "    ('Skin Injury', 'Fracture or other injury'),\n",
    "            \n",
    "    ('Negative Behavior Escalated, Affected Other Resident(s)', 'Failure to address resident aggression'),\n",
    "            \n",
    "    ('Medical Condition Developed or Worsened', 'Medical condition developed or worsened'),\n",
    "    ('Decubitus Ulcer(s) Developed', 'Medical condition developed or worsened'),\n",
    "    ('Decubitus Ulcer(s) Worsened', 'Medical condition developed or worsened'),\n",
    "    ('Urinary Tract Infection Worsened', 'Medical condition developed or worsened'),\n",
    "    ('Transfer To Hospital For Treatment', 'Medical condition developed or worsened'),\n",
    "            \n",
    "    ('Received Incorrect or Wrong Dose of Medication(s)', 'Medication error'),\n",
    "    ('The resident did not receive an ordered medication', 'Medication error'),\n",
    "            \n",
    "    ('Loss of Resident Property', 'Loss of property, theft or financial exploitation'),\n",
    "    ('Loss of Medication', 'Loss of property, theft or financial exploitation'),\n",
    "    ('Financially Exploited', 'Loss of property, theft or financial exploitation'),\n",
    "            \n",
    "    ('Unreasonable Discomfort', 'Unreasonable discomfort or continued pain'),\n",
    "    ('Pain And Suffering Continued', 'Unreasonable discomfort or continued pain'),\n",
    "            \n",
    "    ('Undesirable Weight Loss', 'Weight loss'),\n",
    "            \n",
    "    ('Poor Continuity Of Care', 'Inadequate care'),\n",
    "    ('Failed To Have Quality of Life Maintained or Enhanced', 'Inadequate care'),\n",
    "    ('Failed to Receive Needed Services', 'Inadequate care'),\n",
    "    ('Denied Choice In Treatment', 'Inadequate care'),\n",
    "            \n",
    "    ('Incontinence', 'Inadequate hygiene'),\n",
    "    ('Inadequate Hygiene', 'Inadequate hygiene'),\n",
    "            \n",
    "    ('Physically Abused', 'Physical abuse'),\n",
    "    ('Corporally Punished', 'Physical abuse'),\n",
    "            \n",
    "    ('Verbally Abused', 'Verbal or emotional abuse'),\n",
    "    ('Mentally or Emotionally Abused', 'Verbal or emotional abuse'),\n",
    "            \n",
    "    ('Involuntarily Secluded', 'Involuntary seclusion'),\n",
    "            \n",
    "    ('Raped', 'Sexual abuse'),\n",
    "    ('Sexually Abused', 'Sexual abuse'),\n",
    "            \n",
    "    ('Deceased', 'Death'),\n",
    "    ('Facility was understaffed with no negative outcome', 'Staffing issues'),\n",
    "    ('Unable to timely assess adequacy of staffing', 'Staffing issues'),\n",
    "            \n",
    "    ('Improperly Transferred Out of Facility, Denied Readmission or Inappropriate Move Within Facility', 'Denied readmission or moved improperly'),\n",
    "]).get).fillna('')"
   ]
  },
  {
   "cell_type": "markdown",
   "metadata": {},
   "source": [
    "<h2>Export the facility and complaints data for munging</h2>"
   ]
  },
  {
   "cell_type": "code",
   "execution_count": 119,
   "metadata": {},
   "outputs": [],
   "source": [
    "merged_comp_fac.to_csv('../../data/processed/complaints-3-25-scrape.csv',index=False)"
   ]
  },
  {
   "cell_type": "code",
   "execution_count": 120,
   "metadata": {},
   "outputs": [],
   "source": [
    "fac_pivot_merge.to_csv('../../data/processed/facilities-3-25-scrape.csv',index=False)"
   ]
  },
  {
   "cell_type": "markdown",
   "metadata": {},
   "source": [
    "<h1>DONE</h1>"
   ]
  }
 ],
 "metadata": {
  "anaconda-cloud": {},
  "kernelspec": {
   "display_name": "Python 3",
   "language": "python",
   "name": "python3"
  },
  "language_info": {
   "codemirror_mode": {
    "name": "ipython",
    "version": 3
   },
   "file_extension": ".py",
   "mimetype": "text/x-python",
   "name": "python",
   "nbconvert_exporter": "python",
   "pygments_lexer": "ipython3",
   "version": "3.7.3"
  }
 },
 "nbformat": 4,
 "nbformat_minor": 1
}
