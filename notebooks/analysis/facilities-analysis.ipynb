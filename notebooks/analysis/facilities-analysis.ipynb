{
 "cells": [
  {
   "cell_type": "markdown",
   "metadata": {},
   "source": [
    "This is a dataset of Assisted Living, Nursing and Residential Care facilities in Oregon, open as of September, 2016. For each, we have:\n",
    "\n",
    "Data were munged [here](https://github.com/TheOregonian/long-term-care-db/blob/master/notebooks/transformation/mung-3-29-scrape.ipynb).\n",
    "\n",
    "1. <i>facility_id:</i> Unique ID used to join to complaints\n",
    "2. <i>fac_ccmunumber:</i> Unique ID used to join to ownership history\n",
    "3. <i>facility_type:</i> NF - Nursing Facility; RCF - Residential Care Facility; ALF - Assisted Living Facility\n",
    "4. <i>fac_capacity:</i> Number of beds facility is licensed to have. Not necessarily the number of beds facility does have.\n",
    "5. <i>facility_name:</i> Facility name at time of September extract.\n",
    "6. <i>offline:</i> created in munging notebook, a count of complaints that DO NOT appear when facility is searched on state's [complaint search website](https://apps.state.or.us/cf2/spd/facility_complaints/).\n",
    "7. <i>online:</i> created in munging notebook, a count of complaints that DO appear when facility is searched on state's [complaint search website](https://apps.state.or.us/cf2/spd/facility_complaints/)."
   ]
  },
  {
   "cell_type": "code",
   "execution_count": 91,
   "metadata": {},
   "outputs": [
    {
     "data": {
      "text/html": [
       "<style>.container { width:100% !important; }</style>"
      ],
      "text/plain": [
       "<IPython.core.display.HTML object>"
      ]
     },
     "metadata": {},
     "output_type": "display_data"
    }
   ],
   "source": [
    "import pandas as pd\n",
    "import numpy as np\n",
    "from IPython.core.display import display, HTML\n",
    "display(HTML(\"<style>.container { width:100% !important; }</style>\"))"
   ]
  },
  {
   "cell_type": "code",
   "execution_count": 92,
   "metadata": {},
   "outputs": [],
   "source": [
    "df = pd.read_csv('../../data/processed/facilities-3-29-scrape.csv')"
   ]
  },
  {
   "cell_type": "markdown",
   "metadata": {},
   "source": [
    "<h3>How many facilities are there?</h3>"
   ]
  },
  {
   "cell_type": "code",
   "execution_count": 93,
   "metadata": {},
   "outputs": [
    {
     "data": {
      "text/plain": [
       "642"
      ]
     },
     "execution_count": 93,
     "metadata": {},
     "output_type": "execute_result"
    }
   ],
   "source": [
    "df.count()[0]"
   ]
  },
  {
   "cell_type": "markdown",
   "metadata": {},
   "source": [
    "<h3>How many facilities have accurate records online?</h3>"
   ]
  },
  {
   "cell_type": "markdown",
   "metadata": {},
   "source": [
    "Those that have no offline records."
   ]
  },
  {
   "cell_type": "code",
   "execution_count": 94,
   "metadata": {},
   "outputs": [
    {
     "data": {
      "text/plain": [
       "59"
      ]
     },
     "execution_count": 94,
     "metadata": {},
     "output_type": "execute_result"
    }
   ],
   "source": [
    "df[(df['offline'].isnull())].count()[0]"
   ]
  },
  {
   "cell_type": "markdown",
   "metadata": {},
   "source": [
    "<h3>How many facilities have inaccurate records online?<h/3>"
   ]
  },
  {
   "cell_type": "markdown",
   "metadata": {},
   "source": [
    "Those that have offline records."
   ]
  },
  {
   "cell_type": "code",
   "execution_count": 95,
   "metadata": {},
   "outputs": [
    {
     "data": {
      "text/plain": [
       "583"
      ]
     },
     "execution_count": 95,
     "metadata": {},
     "output_type": "execute_result"
    }
   ],
   "source": [
    "df[(df['offline'].notnull())].count()[0]"
   ]
  },
  {
   "cell_type": "markdown",
   "metadata": {},
   "source": [
    "<h3>How many facilities had more than double the number of complaints shown online?</h3>"
   ]
  },
  {
   "cell_type": "code",
   "execution_count": 96,
   "metadata": {},
   "outputs": [
    {
     "data": {
      "text/plain": [
       "358"
      ]
     },
     "execution_count": 96,
     "metadata": {},
     "output_type": "execute_result"
    }
   ],
   "source": [
    "df[(df['offline']>df['online']) & (df['online'].notnull())].count()[0]"
   ]
  },
  {
   "cell_type": "markdown",
   "metadata": {},
   "source": [
    "<h3>How many facilities show zero complaints online but have complaints offline?</h3>"
   ]
  },
  {
   "cell_type": "code",
   "execution_count": 97,
   "metadata": {},
   "outputs": [
    {
     "data": {
      "text/plain": [
       "59"
      ]
     },
     "execution_count": 97,
     "metadata": {},
     "output_type": "execute_result"
    }
   ],
   "source": [
    "df[(df['online'].isnull()) & (df['offline'].notnull())].count()[0]"
   ]
  },
  {
   "cell_type": "markdown",
   "metadata": {},
   "source": [
    "<h3>How many facilities have complaints and are accurate online?</h3>"
   ]
  },
  {
   "cell_type": "code",
   "execution_count": 98,
   "metadata": {},
   "outputs": [
    {
     "data": {
      "text/plain": [
       "16"
      ]
     },
     "execution_count": 98,
     "metadata": {},
     "output_type": "execute_result"
    }
   ],
   "source": [
    "df[(df['online'].notnull()) & (df['offline'].isnull())].count()[0]"
   ]
  },
  {
   "cell_type": "markdown",
   "metadata": {},
   "source": [
    "<h3>How many facilities have complaints?</h3>"
   ]
  },
  {
   "cell_type": "code",
   "execution_count": 99,
   "metadata": {},
   "outputs": [
    {
     "data": {
      "text/plain": [
       "599"
      ]
     },
     "execution_count": 99,
     "metadata": {},
     "output_type": "execute_result"
    }
   ],
   "source": [
    "df[(df['online'].notnull()) | df['offline'].notnull()].count()[0]"
   ]
  },
  {
   "cell_type": "markdown",
   "metadata": {},
   "source": [
    "<h3>What percent of facilities have accurate records online?</h3>"
   ]
  },
  {
   "cell_type": "code",
   "execution_count": 100,
   "metadata": {},
   "outputs": [
    {
     "data": {
      "text/plain": [
       "9.1900311526479754"
      ]
     },
     "execution_count": 100,
     "metadata": {},
     "output_type": "execute_result"
    }
   ],
   "source": [
    "df[(df['offline'].isnull())].count()[0]/df.count()[0]*100"
   ]
  },
  {
   "cell_type": "markdown",
   "metadata": {},
   "source": [
    "<h3>What is the total capacity of all facilities with inaccurate records?</h3>"
   ]
  },
  {
   "cell_type": "code",
   "execution_count": 101,
   "metadata": {},
   "outputs": [
    {
     "data": {
      "text/plain": [
       "35129.0"
      ]
     },
     "execution_count": 101,
     "metadata": {},
     "output_type": "execute_result"
    }
   ],
   "source": [
    "df[df['offline'].notnull()].sum()['fac_capacity']"
   ]
  },
  {
   "cell_type": "markdown",
   "metadata": {},
   "source": [
    "<h3>How many facilities appear to have no complaints, whether or not they do?</h3>"
   ]
  },
  {
   "cell_type": "code",
   "execution_count": 102,
   "metadata": {},
   "outputs": [
    {
     "data": {
      "text/plain": [
       "102"
      ]
     },
     "execution_count": 102,
     "metadata": {},
     "output_type": "execute_result"
    }
   ],
   "source": [
    "df[df['online'].isnull()].count()[0]"
   ]
  },
  {
   "cell_type": "markdown",
   "metadata": {},
   "source": [
    "<h3>What are the ten facilities with >50 complaints that have the highest disparities?</h3>\n",
    "<i>For graphics</i>"
   ]
  },
  {
   "cell_type": "code",
   "execution_count": 114,
   "metadata": {},
   "outputs": [],
   "source": [
    "over_50 = df[((df['offline']+df['online'])>50)]"
   ]
  },
  {
   "cell_type": "code",
   "execution_count": 115,
   "metadata": {},
   "outputs": [
    {
     "name": "stderr",
     "output_type": "stream",
     "text": [
      "/Users/fzarkhin/anaconda/lib/python3.5/site-packages/ipykernel/__main__.py:1: SettingWithCopyWarning: \n",
      "A value is trying to be set on a copy of a slice from a DataFrame.\n",
      "Try using .loc[row_indexer,col_indexer] = value instead\n",
      "\n",
      "See the caveats in the documentation: http://pandas.pydata.org/pandas-docs/stable/indexing.html#indexing-view-versus-copy\n",
      "  if __name__ == '__main__':\n"
     ]
    }
   ],
   "source": [
    "over_50['total'] = over_50['online']+over_50['offline']"
   ]
  },
  {
   "cell_type": "code",
   "execution_count": 116,
   "metadata": {},
   "outputs": [
    {
     "name": "stderr",
     "output_type": "stream",
     "text": [
      "/Users/fzarkhin/anaconda/lib/python3.5/site-packages/ipykernel/__main__.py:1: SettingWithCopyWarning: \n",
      "A value is trying to be set on a copy of a slice from a DataFrame.\n",
      "Try using .loc[row_indexer,col_indexer] = value instead\n",
      "\n",
      "See the caveats in the documentation: http://pandas.pydata.org/pandas-docs/stable/indexing.html#indexing-view-versus-copy\n",
      "  if __name__ == '__main__':\n"
     ]
    }
   ],
   "source": [
    "over_50['pct_offline'] = over_50['offline']/over_50['total']*100"
   ]
  },
  {
   "cell_type": "code",
   "execution_count": 117,
   "metadata": {},
   "outputs": [
    {
     "data": {
      "text/html": [
       "<div>\n",
       "<table border=\"1\" class=\"dataframe\">\n",
       "  <thead>\n",
       "    <tr style=\"text-align: right;\">\n",
       "      <th></th>\n",
       "      <th>facility_id</th>\n",
       "      <th>fac_ccmunumber</th>\n",
       "      <th>facility_type</th>\n",
       "      <th>fac_capacity</th>\n",
       "      <th>facility_name</th>\n",
       "      <th>offline</th>\n",
       "      <th>online</th>\n",
       "      <th>total</th>\n",
       "      <th>pct_offline</th>\n",
       "    </tr>\n",
       "  </thead>\n",
       "  <tbody>\n",
       "    <tr>\n",
       "      <th>4</th>\n",
       "      <td>385024</td>\n",
       "      <td>385024</td>\n",
       "      <td>NF</td>\n",
       "      <td>91.0</td>\n",
       "      <td>Avamere Health Services of Rogue Valley</td>\n",
       "      <td>67.0</td>\n",
       "      <td>27.0</td>\n",
       "      <td>94.0</td>\n",
       "      <td>71.276596</td>\n",
       "    </tr>\n",
       "  </tbody>\n",
       "</table>\n",
       "</div>"
      ],
      "text/plain": [
       "  facility_id fac_ccmunumber facility_type  fac_capacity  \\\n",
       "4      385024         385024            NF          91.0   \n",
       "\n",
       "                             facility_name  offline  online  total  \\\n",
       "4  Avamere Health Services of Rogue Valley     67.0    27.0   94.0   \n",
       "\n",
       "   pct_offline  \n",
       "4    71.276596  "
      ]
     },
     "execution_count": 117,
     "metadata": {},
     "output_type": "execute_result"
    }
   ],
   "source": [
    "over_50[over_50['facility_name']=='Avamere Health Services of Rogue Valley']"
   ]
  },
  {
   "cell_type": "code",
   "execution_count": 118,
   "metadata": {
    "scrolled": false
   },
   "outputs": [
    {
     "data": {
      "text/html": [
       "<div>\n",
       "<table border=\"1\" class=\"dataframe\">\n",
       "  <thead>\n",
       "    <tr style=\"text-align: right;\">\n",
       "      <th></th>\n",
       "      <th>facility_id</th>\n",
       "      <th>fac_ccmunumber</th>\n",
       "      <th>facility_type</th>\n",
       "      <th>fac_capacity</th>\n",
       "      <th>facility_name</th>\n",
       "      <th>offline</th>\n",
       "      <th>online</th>\n",
       "      <th>total</th>\n",
       "      <th>pct_offline</th>\n",
       "    </tr>\n",
       "  </thead>\n",
       "  <tbody>\n",
       "    <tr>\n",
       "      <th>50</th>\n",
       "      <td>385166</td>\n",
       "      <td>385166</td>\n",
       "      <td>NF</td>\n",
       "      <td>165.0</td>\n",
       "      <td>Maryville Nursing Home</td>\n",
       "      <td>53.0</td>\n",
       "      <td>12.0</td>\n",
       "      <td>65.0</td>\n",
       "      <td>81.538462</td>\n",
       "    </tr>\n",
       "    <tr>\n",
       "      <th>78</th>\n",
       "      <td>385219</td>\n",
       "      <td>385219</td>\n",
       "      <td>NF</td>\n",
       "      <td>93.0</td>\n",
       "      <td>Care Center East Health &amp; Specialty Care Center</td>\n",
       "      <td>63.0</td>\n",
       "      <td>16.0</td>\n",
       "      <td>79.0</td>\n",
       "      <td>79.746835</td>\n",
       "    </tr>\n",
       "    <tr>\n",
       "      <th>45</th>\n",
       "      <td>385157</td>\n",
       "      <td>385157</td>\n",
       "      <td>NF</td>\n",
       "      <td>114.0</td>\n",
       "      <td>Life Care Center Of Coos Bay</td>\n",
       "      <td>74.0</td>\n",
       "      <td>21.0</td>\n",
       "      <td>95.0</td>\n",
       "      <td>77.894737</td>\n",
       "    </tr>\n",
       "    <tr>\n",
       "      <th>63</th>\n",
       "      <td>385190</td>\n",
       "      <td>385190</td>\n",
       "      <td>NF</td>\n",
       "      <td>78.0</td>\n",
       "      <td>Prestige Post-Acute and Rehabilitation Center-...</td>\n",
       "      <td>50.0</td>\n",
       "      <td>15.0</td>\n",
       "      <td>65.0</td>\n",
       "      <td>76.923077</td>\n",
       "    </tr>\n",
       "    <tr>\n",
       "      <th>34</th>\n",
       "      <td>385143</td>\n",
       "      <td>385143</td>\n",
       "      <td>NF</td>\n",
       "      <td>118.0</td>\n",
       "      <td>Umpqua Valley Nursing &amp; Rehabilitation Center</td>\n",
       "      <td>55.0</td>\n",
       "      <td>17.0</td>\n",
       "      <td>72.0</td>\n",
       "      <td>76.388889</td>\n",
       "    </tr>\n",
       "    <tr>\n",
       "      <th>144</th>\n",
       "      <td>50A263</td>\n",
       "      <td>50A263</td>\n",
       "      <td>RCF</td>\n",
       "      <td>59.0</td>\n",
       "      <td>Brookdale Bend</td>\n",
       "      <td>40.0</td>\n",
       "      <td>13.0</td>\n",
       "      <td>53.0</td>\n",
       "      <td>75.471698</td>\n",
       "    </tr>\n",
       "    <tr>\n",
       "      <th>23</th>\n",
       "      <td>385120</td>\n",
       "      <td>385120</td>\n",
       "      <td>NF</td>\n",
       "      <td>121.0</td>\n",
       "      <td>Valley West Health Care Center</td>\n",
       "      <td>55.0</td>\n",
       "      <td>20.0</td>\n",
       "      <td>75.0</td>\n",
       "      <td>73.333333</td>\n",
       "    </tr>\n",
       "    <tr>\n",
       "      <th>113</th>\n",
       "      <td>385270</td>\n",
       "      <td>385270</td>\n",
       "      <td>NF</td>\n",
       "      <td>96.0</td>\n",
       "      <td>Prestige Post-Acute and Rehabilitation Center ...</td>\n",
       "      <td>50.0</td>\n",
       "      <td>19.0</td>\n",
       "      <td>69.0</td>\n",
       "      <td>72.463768</td>\n",
       "    </tr>\n",
       "    <tr>\n",
       "      <th>4</th>\n",
       "      <td>385024</td>\n",
       "      <td>385024</td>\n",
       "      <td>NF</td>\n",
       "      <td>91.0</td>\n",
       "      <td>Avamere Health Services of Rogue Valley</td>\n",
       "      <td>67.0</td>\n",
       "      <td>27.0</td>\n",
       "      <td>94.0</td>\n",
       "      <td>71.276596</td>\n",
       "    </tr>\n",
       "    <tr>\n",
       "      <th>27</th>\n",
       "      <td>385132</td>\n",
       "      <td>385132</td>\n",
       "      <td>NF</td>\n",
       "      <td>148.0</td>\n",
       "      <td>Avamere Rehabilitation of King City</td>\n",
       "      <td>36.0</td>\n",
       "      <td>15.0</td>\n",
       "      <td>51.0</td>\n",
       "      <td>70.588235</td>\n",
       "    </tr>\n",
       "  </tbody>\n",
       "</table>\n",
       "</div>"
      ],
      "text/plain": [
       "    facility_id fac_ccmunumber facility_type  fac_capacity  \\\n",
       "50       385166         385166            NF         165.0   \n",
       "78       385219         385219            NF          93.0   \n",
       "45       385157         385157            NF         114.0   \n",
       "63       385190         385190            NF          78.0   \n",
       "34       385143         385143            NF         118.0   \n",
       "144      50A263         50A263           RCF          59.0   \n",
       "23       385120         385120            NF         121.0   \n",
       "113      385270         385270            NF          96.0   \n",
       "4        385024         385024            NF          91.0   \n",
       "27       385132         385132            NF         148.0   \n",
       "\n",
       "                                         facility_name  offline  online  \\\n",
       "50                              Maryville Nursing Home     53.0    12.0   \n",
       "78     Care Center East Health & Specialty Care Center     63.0    16.0   \n",
       "45                        Life Care Center Of Coos Bay     74.0    21.0   \n",
       "63   Prestige Post-Acute and Rehabilitation Center-...     50.0    15.0   \n",
       "34       Umpqua Valley Nursing & Rehabilitation Center     55.0    17.0   \n",
       "144                                     Brookdale Bend     40.0    13.0   \n",
       "23                      Valley West Health Care Center     55.0    20.0   \n",
       "113  Prestige Post-Acute and Rehabilitation Center ...     50.0    19.0   \n",
       "4              Avamere Health Services of Rogue Valley     67.0    27.0   \n",
       "27                 Avamere Rehabilitation of King City     36.0    15.0   \n",
       "\n",
       "     total  pct_offline  \n",
       "50    65.0    81.538462  \n",
       "78    79.0    79.746835  \n",
       "45    95.0    77.894737  \n",
       "63    65.0    76.923077  \n",
       "34    72.0    76.388889  \n",
       "144   53.0    75.471698  \n",
       "23    75.0    73.333333  \n",
       "113   69.0    72.463768  \n",
       "4     94.0    71.276596  \n",
       "27    51.0    70.588235  "
      ]
     },
     "execution_count": 118,
     "metadata": {},
     "output_type": "execute_result"
    }
   ],
   "source": [
    "over_50.sort_values('pct_offline',ascending = False).head(10)"
   ]
  },
  {
   "cell_type": "code",
   "execution_count": null,
   "metadata": {
    "collapsed": true
   },
   "outputs": [],
   "source": []
  }
 ],
 "metadata": {
  "anaconda-cloud": {},
  "kernelspec": {
   "display_name": "Python 3",
   "language": "python",
   "name": "python3"
  },
  "language_info": {
   "codemirror_mode": {
    "name": "ipython",
    "version": 3
   },
   "file_extension": ".py",
   "mimetype": "text/x-python",
   "name": "python",
   "nbconvert_exporter": "python",
   "pygments_lexer": "ipython3",
   "version": "3.7.3"
  }
 },
 "nbformat": 4,
 "nbformat_minor": 1
}
