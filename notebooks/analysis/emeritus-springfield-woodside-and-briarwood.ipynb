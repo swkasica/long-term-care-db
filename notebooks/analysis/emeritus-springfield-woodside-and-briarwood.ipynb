{
 "cells": [
  {
   "cell_type": "markdown",
   "metadata": {},
   "source": [
    "Data were munged [here](https://github.com/TheOregonian/long-term-care-db/blob/master/notebooks/transformation/mung-3-29-scrape.ipynb)."
   ]
  },
  {
   "cell_type": "code",
   "execution_count": 1,
   "metadata": {},
   "outputs": [
    {
     "data": {
      "text/html": [
       "<style>.container { width:100% !important; }</style>"
      ],
      "text/plain": [
       "<IPython.core.display.HTML object>"
      ]
     },
     "metadata": {},
     "output_type": "display_data"
    }
   ],
   "source": [
    "import pandas as pd\n",
    "import numpy as np\n",
    "from IPython.core.display import display, HTML\n",
    "display(HTML(\"<style>.container { width:100% !important; }</style>\"))\n",
    "df = pd.read_csv('../../data/processed/complaints-3-29-scrape.csv')"
   ]
  },
  {
   "cell_type": "markdown",
   "metadata": {},
   "source": [
    "<h3>How many cases of property loss/theft that are offline were there at Emeritus Springfield Woodside  b/ween 5/2013 and 8/2013?</h3>\n",
    "<i>(Facility ID 70M226)</i>"
   ]
  },
  {
   "cell_type": "code",
   "execution_count": 2,
   "metadata": {
    "scrolled": false
   },
   "outputs": [
    {
     "data": {
      "text/plain": [
       "outcome          10\n",
       "incident_date    10\n",
       "dtype: int64"
      ]
     },
     "execution_count": 2,
     "metadata": {},
     "output_type": "execute_result"
    }
   ],
   "source": [
    "df[['outcome','incident_date']][(df['facility_id']=='70M226') &\n",
    "   (df['incident_date']<'2013-08-01') & \n",
    "   (df['incident_date']>'2013-05-01') &\n",
    "   (df['public']=='offline') &\n",
    "   (df['outcome'].str.contains('Property'))].sort_values('incident_date').count()"
   ]
  },
  {
   "cell_type": "code",
   "execution_count": 3,
   "metadata": {},
   "outputs": [
    {
     "data": {
      "text/html": [
       "<div>\n",
       "<table border=\"1\" class=\"dataframe\">\n",
       "  <thead>\n",
       "    <tr style=\"text-align: right;\">\n",
       "      <th></th>\n",
       "      <th>abuse_number</th>\n",
       "      <th>outcome_notes</th>\n",
       "    </tr>\n",
       "  </thead>\n",
       "  <tbody>\n",
       "    <tr>\n",
       "      <th>12325</th>\n",
       "      <td>ES133617</td>\n",
       "      <td>Resident #1 reported $40 cash and jewelry take...</td>\n",
       "    </tr>\n",
       "    <tr>\n",
       "      <th>12327</th>\n",
       "      <td>ES133814</td>\n",
       "      <td>Resident #1 reported $25 cash missing from the...</td>\n",
       "    </tr>\n",
       "    <tr>\n",
       "      <th>12328</th>\n",
       "      <td>ES133720</td>\n",
       "      <td>Resident #1 reported $20 cash missing. Residen...</td>\n",
       "    </tr>\n",
       "    <tr>\n",
       "      <th>12329</th>\n",
       "      <td>ES133683</td>\n",
       "      <td>Resident #1 reported $50 missing from a wallet...</td>\n",
       "    </tr>\n",
       "    <tr>\n",
       "      <th>12330</th>\n",
       "      <td>ES133958</td>\n",
       "      <td>Resident #1 reported missing a jar full of cha...</td>\n",
       "    </tr>\n",
       "    <tr>\n",
       "      <th>12331</th>\n",
       "      <td>ES133678</td>\n",
       "      <td>Resident #1 reported $125 cash missing from a ...</td>\n",
       "    </tr>\n",
       "    <tr>\n",
       "      <th>12332</th>\n",
       "      <td>ES133237</td>\n",
       "      <td>Resident #1 reported the loss of $300. There h...</td>\n",
       "    </tr>\n",
       "    <tr>\n",
       "      <th>12334</th>\n",
       "      <td>ES133441</td>\n",
       "      <td>Resident #1 reported loss of $20 from her/his ...</td>\n",
       "    </tr>\n",
       "    <tr>\n",
       "      <th>12335</th>\n",
       "      <td>ES133150</td>\n",
       "      <td>Resident #1 and Resident #2 reported loss of m...</td>\n",
       "    </tr>\n",
       "    <tr>\n",
       "      <th>12336</th>\n",
       "      <td>ES133673</td>\n",
       "      <td>Resident #1 reported money missing from her/hi...</td>\n",
       "    </tr>\n",
       "  </tbody>\n",
       "</table>\n",
       "</div>"
      ],
      "text/plain": [
       "      abuse_number                                      outcome_notes\n",
       "12325     ES133617  Resident #1 reported $40 cash and jewelry take...\n",
       "12327     ES133814  Resident #1 reported $25 cash missing from the...\n",
       "12328     ES133720  Resident #1 reported $20 cash missing. Residen...\n",
       "12329     ES133683  Resident #1 reported $50 missing from a wallet...\n",
       "12330     ES133958  Resident #1 reported missing a jar full of cha...\n",
       "12331     ES133678  Resident #1 reported $125 cash missing from a ...\n",
       "12332     ES133237  Resident #1 reported the loss of $300. There h...\n",
       "12334     ES133441  Resident #1 reported loss of $20 from her/his ...\n",
       "12335     ES133150  Resident #1 and Resident #2 reported loss of m...\n",
       "12336     ES133673  Resident #1 reported money missing from her/hi..."
      ]
     },
     "execution_count": 3,
     "metadata": {},
     "output_type": "execute_result"
    }
   ],
   "source": [
    "df[['abuse_number','outcome_notes']][(df['facility_id']=='70M226') &\n",
    "   (df['incident_date']<'2013-08-01') & \n",
    "   (df['incident_date']>'2013-05-01') &\n",
    "   (df['public']=='offline') &\n",
    "   (df['outcome'].str.contains('Property'))]"
   ]
  },
  {
   "cell_type": "markdown",
   "metadata": {},
   "source": [
    "The case below lists two thefts. That's why our total in the paragraph is 11."
   ]
  },
  {
   "cell_type": "code",
   "execution_count": 4,
   "metadata": {},
   "outputs": [
    {
     "data": {
      "text/plain": [
       "12335    Resident #1 and Resident #2 reported loss of m...\n",
       "Name: outcome_notes, dtype: object"
      ]
     },
     "execution_count": 4,
     "metadata": {},
     "output_type": "execute_result"
    }
   ],
   "source": [
    "df['outcome_notes'][df['abuse_number']=='ES133150']"
   ]
  },
  {
   "cell_type": "markdown",
   "metadata": {},
   "source": [
    "<h3>What cases at Briarwood were there that same year that are online and comparable to the offline ones at Woodside?</h3>"
   ]
  },
  {
   "cell_type": "code",
   "execution_count": 5,
   "metadata": {},
   "outputs": [
    {
     "data": {
      "text/html": [
       "<div>\n",
       "<table border=\"1\" class=\"dataframe\">\n",
       "  <thead>\n",
       "    <tr style=\"text-align: right;\">\n",
       "      <th></th>\n",
       "      <th>outcome_notes</th>\n",
       "      <th>abuse_number</th>\n",
       "    </tr>\n",
       "  </thead>\n",
       "  <tbody>\n",
       "    <tr>\n",
       "      <th>9964</th>\n",
       "      <td>A total of $370 worth of PIF (Personal Inciden...</td>\n",
       "      <td>ES134746</td>\n",
       "    </tr>\n",
       "    <tr>\n",
       "      <th>9999</th>\n",
       "      <td>Jewelry, estimated at $200-$300 was reported t...</td>\n",
       "      <td>ES133333</td>\n",
       "    </tr>\n",
       "    <tr>\n",
       "      <th>10002</th>\n",
       "      <td>Resident #1 reported two fishing poles and two...</td>\n",
       "      <td>ES133151</td>\n",
       "    </tr>\n",
       "    <tr>\n",
       "      <th>10003</th>\n",
       "      <td>Resident #1 reported a bag missing from her/hi...</td>\n",
       "      <td>ES133128</td>\n",
       "    </tr>\n",
       "    <tr>\n",
       "      <th>10005</th>\n",
       "      <td>Resident #1 reported the loss of 28 narcotic p...</td>\n",
       "      <td>ES133033</td>\n",
       "    </tr>\n",
       "    <tr>\n",
       "      <th>10006</th>\n",
       "      <td>Resident #1 reported a brand new laptop worth ...</td>\n",
       "      <td>ES132740</td>\n",
       "    </tr>\n",
       "  </tbody>\n",
       "</table>\n",
       "</div>"
      ],
      "text/plain": [
       "                                           outcome_notes abuse_number\n",
       "9964   A total of $370 worth of PIF (Personal Inciden...     ES134746\n",
       "9999   Jewelry, estimated at $200-$300 was reported t...     ES133333\n",
       "10002  Resident #1 reported two fishing poles and two...     ES133151\n",
       "10003  Resident #1 reported a bag missing from her/hi...     ES133128\n",
       "10005  Resident #1 reported the loss of 28 narcotic p...     ES133033\n",
       "10006  Resident #1 reported a brand new laptop worth ...     ES132740"
      ]
     },
     "execution_count": 5,
     "metadata": {},
     "output_type": "execute_result"
    }
   ],
   "source": [
    "df[['outcome_notes','abuse_number']][(df['facility_id']=='70A299') & \n",
    "   (df['outcome']=='Loss of Resident Property') & \n",
    "   (df['public']=='online') &\n",
    "   (df['year']==2013)]"
   ]
  },
  {
   "cell_type": "markdown",
   "metadata": {},
   "source": [
    "Upon review, use my own judgement to determine that cases ES134746 and ES133151 have a similar severity to the ten cases at Woodside."
   ]
  },
  {
   "cell_type": "code",
   "execution_count": 6,
   "metadata": {},
   "outputs": [
    {
     "data": {
      "text/html": [
       "<div>\n",
       "<table border=\"1\" class=\"dataframe\">\n",
       "  <thead>\n",
       "    <tr style=\"text-align: right;\">\n",
       "      <th></th>\n",
       "      <th>abuse_number</th>\n",
       "      <th>outcome_notes</th>\n",
       "    </tr>\n",
       "  </thead>\n",
       "  <tbody>\n",
       "    <tr>\n",
       "      <th>9964</th>\n",
       "      <td>ES134746</td>\n",
       "      <td>A total of $370 worth of PIF (Personal Inciden...</td>\n",
       "    </tr>\n",
       "    <tr>\n",
       "      <th>10002</th>\n",
       "      <td>ES133151</td>\n",
       "      <td>Resident #1 reported two fishing poles and two...</td>\n",
       "    </tr>\n",
       "  </tbody>\n",
       "</table>\n",
       "</div>"
      ],
      "text/plain": [
       "      abuse_number                                      outcome_notes\n",
       "9964      ES134746  A total of $370 worth of PIF (Personal Inciden...\n",
       "10002     ES133151  Resident #1 reported two fishing poles and two..."
      ]
     },
     "execution_count": 6,
     "metadata": {},
     "output_type": "execute_result"
    }
   ],
   "source": [
    "df[['abuse_number','outcome_notes']][df['abuse_number'].isin(['ES133151','ES134746'])]"
   ]
  },
  {
   "cell_type": "markdown",
   "metadata": {},
   "source": [
    "<h1>DONE</h1>"
   ]
  }
 ],
 "metadata": {
  "anaconda-cloud": {},
  "kernelspec": {
   "display_name": "Python 3",
   "language": "python",
   "name": "python3"
  },
  "language_info": {
   "codemirror_mode": {
    "name": "ipython",
    "version": 3
   },
   "file_extension": ".py",
   "mimetype": "text/x-python",
   "name": "python",
   "nbconvert_exporter": "python",
   "pygments_lexer": "ipython3",
   "version": "3.7.3"
  }
 },
 "nbformat": 4,
 "nbformat_minor": 1
}
