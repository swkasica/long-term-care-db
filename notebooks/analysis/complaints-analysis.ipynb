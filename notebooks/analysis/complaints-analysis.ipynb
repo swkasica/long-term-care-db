{
 "cells": [
  {
   "cell_type": "markdown",
   "metadata": {},
   "source": [
    "This is an analysis of complaints data, munged [here](https://github.com/TheOregonian/long-term-care-db/blob/master/notebooks/transformation/mung-3-29-scrape.ipynb)."
   ]
  },
  {
   "cell_type": "markdown",
   "metadata": {},
   "source": [
    "The fields are:\n",
    "1. <i>abuse_number:</i> A unique number assigned each complaint.\n",
    "2. <i>facility_id:</i> A unique number to each facility building. Stays if ownership changes.\n",
    "3. <i>facility_type:</i> NF: Nursing Facility; ALF: Assisted Living Facility; RCF: Residential Care Facility.\n",
    "4. <i>facility_name:</i> Name of facility as of January 2017, when DHS provided the facility data to The Oregonian.\n",
    "5. <i>abuse_type:</i> A – facility abuse; L – licensing. Note: This does not apply to nursing facilities. All their complaints are either blank in this field or licensing.\n",
    "6. <i>fine:</i> Amount that state initialy fined the facility. Not necessarily amount of final fine.\n",
    "7. <i>action_notes:</i> DHS determination of what general acts constituted the abuse or rule violation.\n",
    "8. <i>incident_date:</i> Date the incident occured\n",
    "9. <i>outcome:</i> A very brief description of the consequences of the abuse or rule violation to the resident\n",
    "10. <i>outcome_notes:</i> A detailed description of what happened.\n",
    "11. <i>year:</i> year incident occured\n",
    "12. <i>online_fac_name:</i> If complaint is online, name listed for the facility\n",
    "13. <i>public:</i> Whether or not complaint is online\n",
    "14. <i>omg_outcome:</i> Field we created to group some similar outcomes. "
   ]
  },
  {
   "cell_type": "code",
   "execution_count": 17,
   "metadata": {},
   "outputs": [
    {
     "data": {
      "text/html": [
       "<style>.container { width:100% !important; }</style>"
      ],
      "text/plain": [
       "<IPython.core.display.HTML object>"
      ]
     },
     "metadata": {},
     "output_type": "display_data"
    }
   ],
   "source": [
    "import pandas as pd\n",
    "import numpy as np\n",
    "from IPython.core.display import display, HTML\n",
    "display(HTML(\"<style>.container { width:100% !important; }</style>\"))\n",
    "pd.set_option('display.max_colwidth', -1)"
   ]
  },
  {
   "cell_type": "code",
   "execution_count": 18,
   "metadata": {
    "collapsed": true
   },
   "outputs": [],
   "source": [
    "df = pd.read_csv('../../data/processed/complaints-3-29-scrape.csv')"
   ]
  },
  {
   "cell_type": "markdown",
   "metadata": {},
   "source": [
    "<h3>How many total complaints are there?</h3>"
   ]
  },
  {
   "cell_type": "code",
   "execution_count": 19,
   "metadata": {},
   "outputs": [
    {
     "data": {
      "text/plain": [
       "13032"
      ]
     },
     "execution_count": 19,
     "metadata": {},
     "output_type": "execute_result"
    }
   ],
   "source": [
    "df.count()[0]"
   ]
  },
  {
   "cell_type": "markdown",
   "metadata": {},
   "source": [
    "<h3>How many complaints do not appear in the state's public database?</h3>"
   ]
  },
  {
   "cell_type": "code",
   "execution_count": 20,
   "metadata": {},
   "outputs": [
    {
     "data": {
      "text/plain": [
       "7846"
      ]
     },
     "execution_count": 20,
     "metadata": {},
     "output_type": "execute_result"
    }
   ],
   "source": [
    "df[df['public']=='offline'].count()[0]"
   ]
  },
  {
   "cell_type": "markdown",
   "metadata": {},
   "source": [
    "<h3>How many complaints do appear in the state's public database?</h3>"
   ]
  },
  {
   "cell_type": "code",
   "execution_count": 21,
   "metadata": {},
   "outputs": [
    {
     "data": {
      "text/plain": [
       "5186"
      ]
     },
     "execution_count": 21,
     "metadata": {},
     "output_type": "execute_result"
    }
   ],
   "source": [
    "df[df['public']=='online'].count()[0]"
   ]
  },
  {
   "cell_type": "markdown",
   "metadata": {},
   "source": [
    "<h3>What percent of complaints are missing?</h3>"
   ]
  },
  {
   "cell_type": "code",
   "execution_count": 22,
   "metadata": {},
   "outputs": [
    {
     "data": {
      "text/plain": [
       "60.205647636586868"
      ]
     },
     "execution_count": 22,
     "metadata": {},
     "output_type": "execute_result"
    }
   ],
   "source": [
    "df[df['public']=='offline'].count()[0]/df.count()[0]*100"
   ]
  },
  {
   "cell_type": "markdown",
   "metadata": {},
   "source": [
    "<h3>How many complaints were labelled 'Exposed to potential harm' or 'No negative outcome?'</h3>"
   ]
  },
  {
   "cell_type": "code",
   "execution_count": 23,
   "metadata": {},
   "outputs": [
    {
     "data": {
      "text/plain": [
       "2509"
      ]
     },
     "execution_count": 23,
     "metadata": {},
     "output_type": "execute_result"
    }
   ],
   "source": [
    "df[(df['outcome']=='Exposed to Potential Harm') | (df['outcome']=='No Negative Outcome')].count()[0]"
   ]
  },
  {
   "cell_type": "markdown",
   "metadata": {},
   "source": [
    "<h3>Of all missing complaints, what percent are in the above two categories?</h3>"
   ]
  },
  {
   "cell_type": "code",
   "execution_count": 24,
   "metadata": {},
   "outputs": [
    {
     "data": {
      "text/plain": [
       "31.978078001529443"
      ]
     },
     "execution_count": 24,
     "metadata": {},
     "output_type": "execute_result"
    }
   ],
   "source": [
    "df[(df['outcome']=='Exposed to Potential Harm') |\n",
    "   (df['outcome']=='No Negative Outcome')].count()[0]/df[df['public']=='offline'].count()[0]*100"
   ]
  },
  {
   "cell_type": "markdown",
   "metadata": {},
   "source": [
    "<h3>What's the online/offline breakdown by outcome?</h3>\n",
    "<i>This was used in graphics</i>"
   ]
  },
  {
   "cell_type": "code",
   "execution_count": 25,
   "metadata": {},
   "outputs": [],
   "source": [
    "totals = df.groupby(['omg_outcome','public']).count()['abuse_number'].unstack().reset_index()"
   ]
  },
  {
   "cell_type": "code",
   "execution_count": 26,
   "metadata": {
    "collapsed": true
   },
   "outputs": [],
   "source": [
    "totals.fillna(0, inplace = True)"
   ]
  },
  {
   "cell_type": "code",
   "execution_count": 27,
   "metadata": {
    "collapsed": true
   },
   "outputs": [],
   "source": [
    "totals['total'] = totals['online']+totals['offline']"
   ]
  },
  {
   "cell_type": "code",
   "execution_count": 28,
   "metadata": {
    "collapsed": true
   },
   "outputs": [],
   "source": [
    "totals['pct_offline'] = round(totals['offline']/totals['total']*100)"
   ]
  },
  {
   "cell_type": "code",
   "execution_count": 29,
   "metadata": {},
   "outputs": [
    {
     "data": {
      "text/html": [
       "<div>\n",
       "<table border=\"1\" class=\"dataframe\">\n",
       "  <thead>\n",
       "    <tr style=\"text-align: right;\">\n",
       "      <th>public</th>\n",
       "      <th>omg_outcome</th>\n",
       "      <th>offline</th>\n",
       "      <th>online</th>\n",
       "      <th>total</th>\n",
       "      <th>pct_offline</th>\n",
       "    </tr>\n",
       "  </thead>\n",
       "  <tbody>\n",
       "    <tr>\n",
       "      <th>16</th>\n",
       "      <td>Staffing issues</td>\n",
       "      <td>12.0</td>\n",
       "      <td>0.0</td>\n",
       "      <td>12.0</td>\n",
       "      <td>100.0</td>\n",
       "    </tr>\n",
       "    <tr>\n",
       "      <th>1</th>\n",
       "      <td>Denied readmission or moved improperly</td>\n",
       "      <td>35.0</td>\n",
       "      <td>2.0</td>\n",
       "      <td>37.0</td>\n",
       "      <td>95.0</td>\n",
       "    </tr>\n",
       "    <tr>\n",
       "      <th>14</th>\n",
       "      <td>Potential harm</td>\n",
       "      <td>2361.0</td>\n",
       "      <td>148.0</td>\n",
       "      <td>2509.0</td>\n",
       "      <td>94.0</td>\n",
       "    </tr>\n",
       "    <tr>\n",
       "      <th>3</th>\n",
       "      <td>Fall, no injury</td>\n",
       "      <td>150.0</td>\n",
       "      <td>13.0</td>\n",
       "      <td>163.0</td>\n",
       "      <td>92.0</td>\n",
       "    </tr>\n",
       "    <tr>\n",
       "      <th>8</th>\n",
       "      <td>Left facility without attendant, no injury</td>\n",
       "      <td>207.0</td>\n",
       "      <td>18.0</td>\n",
       "      <td>225.0</td>\n",
       "      <td>92.0</td>\n",
       "    </tr>\n",
       "    <tr>\n",
       "      <th>9</th>\n",
       "      <td>Loss of Dignity</td>\n",
       "      <td>884.0</td>\n",
       "      <td>97.0</td>\n",
       "      <td>981.0</td>\n",
       "      <td>90.0</td>\n",
       "    </tr>\n",
       "    <tr>\n",
       "      <th>12</th>\n",
       "      <td>Medication error</td>\n",
       "      <td>983.0</td>\n",
       "      <td>217.0</td>\n",
       "      <td>1200.0</td>\n",
       "      <td>82.0</td>\n",
       "    </tr>\n",
       "    <tr>\n",
       "      <th>5</th>\n",
       "      <td>Inadequate care</td>\n",
       "      <td>496.0</td>\n",
       "      <td>170.0</td>\n",
       "      <td>666.0</td>\n",
       "      <td>74.0</td>\n",
       "    </tr>\n",
       "    <tr>\n",
       "      <th>6</th>\n",
       "      <td>Inadequate hygiene</td>\n",
       "      <td>138.0</td>\n",
       "      <td>104.0</td>\n",
       "      <td>242.0</td>\n",
       "      <td>57.0</td>\n",
       "    </tr>\n",
       "    <tr>\n",
       "      <th>10</th>\n",
       "      <td>Loss of property, theft or financial exploitation</td>\n",
       "      <td>809.0</td>\n",
       "      <td>737.0</td>\n",
       "      <td>1546.0</td>\n",
       "      <td>52.0</td>\n",
       "    </tr>\n",
       "    <tr>\n",
       "      <th>13</th>\n",
       "      <td>Physical abuse</td>\n",
       "      <td>89.0</td>\n",
       "      <td>92.0</td>\n",
       "      <td>181.0</td>\n",
       "      <td>49.0</td>\n",
       "    </tr>\n",
       "    <tr>\n",
       "      <th>18</th>\n",
       "      <td>Verbal or emotional abuse</td>\n",
       "      <td>70.0</td>\n",
       "      <td>94.0</td>\n",
       "      <td>164.0</td>\n",
       "      <td>43.0</td>\n",
       "    </tr>\n",
       "    <tr>\n",
       "      <th>7</th>\n",
       "      <td>Involuntary seclusion</td>\n",
       "      <td>8.0</td>\n",
       "      <td>11.0</td>\n",
       "      <td>19.0</td>\n",
       "      <td>42.0</td>\n",
       "    </tr>\n",
       "    <tr>\n",
       "      <th>2</th>\n",
       "      <td>Failure to address resident aggression</td>\n",
       "      <td>395.0</td>\n",
       "      <td>622.0</td>\n",
       "      <td>1017.0</td>\n",
       "      <td>39.0</td>\n",
       "    </tr>\n",
       "    <tr>\n",
       "      <th>4</th>\n",
       "      <td>Fracture or other injury</td>\n",
       "      <td>680.0</td>\n",
       "      <td>1185.0</td>\n",
       "      <td>1865.0</td>\n",
       "      <td>36.0</td>\n",
       "    </tr>\n",
       "    <tr>\n",
       "      <th>11</th>\n",
       "      <td>Medical condition developed or worsened</td>\n",
       "      <td>370.0</td>\n",
       "      <td>1046.0</td>\n",
       "      <td>1416.0</td>\n",
       "      <td>26.0</td>\n",
       "    </tr>\n",
       "    <tr>\n",
       "      <th>0</th>\n",
       "      <td>Death</td>\n",
       "      <td>7.0</td>\n",
       "      <td>23.0</td>\n",
       "      <td>30.0</td>\n",
       "      <td>23.0</td>\n",
       "    </tr>\n",
       "    <tr>\n",
       "      <th>15</th>\n",
       "      <td>Sexual abuse</td>\n",
       "      <td>15.0</td>\n",
       "      <td>49.0</td>\n",
       "      <td>64.0</td>\n",
       "      <td>23.0</td>\n",
       "    </tr>\n",
       "    <tr>\n",
       "      <th>17</th>\n",
       "      <td>Unreasonable discomfort or continued pain</td>\n",
       "      <td>115.0</td>\n",
       "      <td>452.0</td>\n",
       "      <td>567.0</td>\n",
       "      <td>20.0</td>\n",
       "    </tr>\n",
       "    <tr>\n",
       "      <th>19</th>\n",
       "      <td>Weight loss</td>\n",
       "      <td>20.0</td>\n",
       "      <td>106.0</td>\n",
       "      <td>126.0</td>\n",
       "      <td>16.0</td>\n",
       "    </tr>\n",
       "  </tbody>\n",
       "</table>\n",
       "</div>"
      ],
      "text/plain": [
       "public                                        omg_outcome  offline  online  \\\n",
       "16      Staffing issues                                    12.0     0.0      \n",
       "1       Denied readmission or moved improperly             35.0     2.0      \n",
       "14      Potential harm                                     2361.0   148.0    \n",
       "3       Fall, no injury                                    150.0    13.0     \n",
       "8       Left facility without attendant, no injury         207.0    18.0     \n",
       "9       Loss of Dignity                                    884.0    97.0     \n",
       "12      Medication error                                   983.0    217.0    \n",
       "5       Inadequate care                                    496.0    170.0    \n",
       "6       Inadequate hygiene                                 138.0    104.0    \n",
       "10      Loss of property, theft or financial exploitation  809.0    737.0    \n",
       "13      Physical abuse                                     89.0     92.0     \n",
       "18      Verbal or emotional abuse                          70.0     94.0     \n",
       "7       Involuntary seclusion                              8.0      11.0     \n",
       "2       Failure to address resident aggression             395.0    622.0    \n",
       "4       Fracture or other injury                           680.0    1185.0   \n",
       "11      Medical condition developed or worsened            370.0    1046.0   \n",
       "0       Death                                              7.0      23.0     \n",
       "15      Sexual abuse                                       15.0     49.0     \n",
       "17      Unreasonable discomfort or continued pain          115.0    452.0    \n",
       "19      Weight loss                                        20.0     106.0    \n",
       "\n",
       "public   total  pct_offline  \n",
       "16      12.0    100.0        \n",
       "1       37.0    95.0         \n",
       "14      2509.0  94.0         \n",
       "3       163.0   92.0         \n",
       "8       225.0   92.0         \n",
       "9       981.0   90.0         \n",
       "12      1200.0  82.0         \n",
       "5       666.0   74.0         \n",
       "6       242.0   57.0         \n",
       "10      1546.0  52.0         \n",
       "13      181.0   49.0         \n",
       "18      164.0   43.0         \n",
       "7       19.0    42.0         \n",
       "2       1017.0  39.0         \n",
       "4       1865.0  36.0         \n",
       "11      1416.0  26.0         \n",
       "0       30.0    23.0         \n",
       "15      64.0    23.0         \n",
       "17      567.0   20.0         \n",
       "19      126.0   16.0         "
      ]
     },
     "execution_count": 29,
     "metadata": {},
     "output_type": "execute_result"
    }
   ],
   "source": [
    "totals.sort_values('pct_offline',ascending=False)"
   ]
  },
  {
   "cell_type": "markdown",
   "metadata": {},
   "source": [
    "<h3>How many offline complaints in the database were found to have \"abuse,\" \"neglect\" or \"exploitation?\"</h3>"
   ]
  },
  {
   "cell_type": "code",
   "execution_count": 30,
   "metadata": {
    "collapsed": true
   },
   "outputs": [],
   "source": [
    "df['outcome_notes'].fillna('', inplace = True)"
   ]
  },
  {
   "cell_type": "code",
   "execution_count": 31,
   "metadata": {},
   "outputs": [
    {
     "data": {
      "text/plain": [
       "483"
      ]
     },
     "execution_count": 31,
     "metadata": {},
     "output_type": "execute_result"
    }
   ],
   "source": [
    "df[(df['outcome_notes'].str.contains('constitute neglect|constitutes neglect|constitute abuse|constitutes abuse|constitutes exploitation|constitutes financial exploitation')) & (df['public']=='offline')].count()[0]"
   ]
  },
  {
   "cell_type": "markdown",
   "metadata": {},
   "source": [
    "\"The state fined the facilities in hundreds of those cases.\""
   ]
  },
  {
   "cell_type": "markdown",
   "metadata": {},
   "source": [
    "<h3>In how many 'potential harm' cases were facilities fined?</h3>"
   ]
  },
  {
   "cell_type": "code",
   "execution_count": 32,
   "metadata": {},
   "outputs": [
    {
     "data": {
      "text/plain": [
       "206"
      ]
     },
     "execution_count": 32,
     "metadata": {},
     "output_type": "execute_result"
    }
   ],
   "source": [
    "df[(df['omg_outcome']=='Potential harm') & (df['fine']>0) & (df['public']=='offline')].count()[0]"
   ]
  }
 ],
 "metadata": {
  "anaconda-cloud": {},
  "kernelspec": {
   "display_name": "Python 3",
   "language": "python",
   "name": "python3"
  },
  "language_info": {
   "codemirror_mode": {
    "name": "ipython",
    "version": 3
   },
   "file_extension": ".py",
   "mimetype": "text/x-python",
   "name": "python",
   "nbconvert_exporter": "python",
   "pygments_lexer": "ipython3",
   "version": "3.7.3"
  }
 },
 "nbformat": 4,
 "nbformat_minor": 1
}
