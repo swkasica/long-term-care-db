{
 "cells": [
  {
   "cell_type": "markdown",
   "metadata": {},
   "source": [
    "A significant portion of the checking was done in the Excel file 'manual verification.'"
   ]
  },
  {
   "cell_type": "markdown",
   "metadata": {},
   "source": [
    "In essence, I searched the state's site (https://apps.state.or.us/cf2/spd/facility_complaints/) using the same criteria as in the scraper, then copy-pasted the resulting list of totals by facility into a spreadsheet. I summed them up and compared them to what the scraper got me."
   ]
  },
  {
   "cell_type": "markdown",
   "metadata": {},
   "source": [
    "There were some differences between the two. "
   ]
  },
  {
   "cell_type": "markdown",
   "metadata": {},
   "source": [
    "1. The totals were off by 5. I manually checked. The totals didn't correspond to the actual numbers on the facility pages.\n",
    "2. The number of complaints per facility type did not match. I don't know why this is, but I don't see it as a problem because the totals are accurate, and we don't need to know the right facility type from the scraped data.\n",
    "3. Four facilities didn't join on 'name.' Checked each one. Each had the right number of complaints scraped."
   ]
  },
  {
   "cell_type": "code",
   "execution_count": 5,
   "metadata": {},
   "outputs": [
    {
     "data": {
      "text/html": [
       "<style>.container { width:100% !important; }</style>"
      ],
      "text/plain": [
       "<IPython.core.display.HTML object>"
      ]
     },
     "metadata": {},
     "output_type": "display_data"
    }
   ],
   "source": [
    "import pandas as pd\n",
    "import numpy as np\n",
    "from IPython.core.display import display, HTML\n",
    "display(HTML(\"<style>.container { width:100% !important; }</style>\"))"
   ]
  },
  {
   "cell_type": "code",
   "execution_count": 6,
   "metadata": {},
   "outputs": [],
   "source": [
    "scraped_comp = pd.read_csv('../data/scraped/scraped_complaints_3_25.csv')"
   ]
  },
  {
   "cell_type": "code",
   "execution_count": 7,
   "metadata": {
    "collapsed": true
   },
   "outputs": [],
   "source": [
    "scraped_comp['abuse_number'] = scraped_comp['abuse_number'].apply(lambda x: x.upper())"
   ]
  },
  {
   "cell_type": "code",
   "execution_count": 8,
   "metadata": {
    "collapsed": true
   },
   "outputs": [],
   "source": [
    "manual = pd.read_excel('/Users/fzarkhin/OneDrive - Advance Central Services, Inc/fproj/github/database-story/scraper/manual verification.xlsx', sheetname='All manual')"
   ]
  },
  {
   "cell_type": "code",
   "execution_count": 9,
   "metadata": {
    "collapsed": true
   },
   "outputs": [],
   "source": [
    "manual = manual.groupby('name').sum().reset_index()"
   ]
  },
  {
   "cell_type": "code",
   "execution_count": 10,
   "metadata": {
    "collapsed": true
   },
   "outputs": [],
   "source": [
    "manual['name']= manual['name'].apply(lambda x: x.strip())\n",
    "scraped_comp['fac_name']= scraped_comp['fac_name'].apply(lambda x: x.strip())"
   ]
  },
  {
   "cell_type": "code",
   "execution_count": 11,
   "metadata": {
    "collapsed": true
   },
   "outputs": [],
   "source": [
    "df = scraped_comp.groupby('fac_name').count().reset_index()[['fac_name','abuse_number']]"
   ]
  },
  {
   "cell_type": "code",
   "execution_count": 12,
   "metadata": {
    "collapsed": true
   },
   "outputs": [],
   "source": [
    "merge1 = manual.merge(df, how = 'left', left_on = 'name', right_on='fac_name')"
   ]
  },
  {
   "cell_type": "markdown",
   "metadata": {},
   "source": [
    "Five facilities did not correspond. Manual checks shows inaccurate online data."
   ]
  },
  {
   "cell_type": "code",
   "execution_count": 13,
   "metadata": {
    "scrolled": true
   },
   "outputs": [
    {
     "data": {
      "text/html": [
       "<div>\n",
       "<table border=\"1\" class=\"dataframe\">\n",
       "  <thead>\n",
       "    <tr style=\"text-align: right;\">\n",
       "      <th></th>\n",
       "      <th>name</th>\n",
       "      <th>count</th>\n",
       "      <th>fac_name</th>\n",
       "      <th>abuse_number</th>\n",
       "    </tr>\n",
       "  </thead>\n",
       "  <tbody>\n",
       "    <tr>\n",
       "      <th>434</th>\n",
       "      <td>KING CITY REHABILITATION &amp; LIVING CENTER</td>\n",
       "      <td>7</td>\n",
       "      <td>KING CITY REHABILITATION &amp; LIVING CENTER</td>\n",
       "      <td>6.0</td>\n",
       "    </tr>\n",
       "    <tr>\n",
       "      <th>295</th>\n",
       "      <td>ENCORE SENIOR VILLAGE AT PORTLAND</td>\n",
       "      <td>9</td>\n",
       "      <td>ENCORE SENIOR VILLAGE AT PORTLAND</td>\n",
       "      <td>8.0</td>\n",
       "    </tr>\n",
       "    <tr>\n",
       "      <th>310</th>\n",
       "      <td>FAIR VIEW TRANSITIONAL HEALTH CENTER</td>\n",
       "      <td>10</td>\n",
       "      <td>FAIR VIEW TRANSITIONAL HEALTH CENTER</td>\n",
       "      <td>9.0</td>\n",
       "    </tr>\n",
       "    <tr>\n",
       "      <th>769</th>\n",
       "      <td>ST. ELIZABETH HEALTH SERVICES</td>\n",
       "      <td>10</td>\n",
       "      <td>ST. ELIZABETH HEALTH SERVICES</td>\n",
       "      <td>9.0</td>\n",
       "    </tr>\n",
       "    <tr>\n",
       "      <th>207</th>\n",
       "      <td>COLUMBIA CARE CENTER</td>\n",
       "      <td>15</td>\n",
       "      <td>COLUMBIA CARE CENTER</td>\n",
       "      <td>14.0</td>\n",
       "    </tr>\n",
       "    <tr>\n",
       "      <th>74</th>\n",
       "      <td>AVAMERE AT SANDY ASSISTED LIVING FACILITY</td>\n",
       "      <td>8</td>\n",
       "      <td>NaN</td>\n",
       "      <td>NaN</td>\n",
       "    </tr>\n",
       "    <tr>\n",
       "      <th>325</th>\n",
       "      <td>FLAGSTONE RETIREMENT &amp; ASSISTED LIVING</td>\n",
       "      <td>4</td>\n",
       "      <td>NaN</td>\n",
       "      <td>NaN</td>\n",
       "    </tr>\n",
       "    <tr>\n",
       "      <th>527</th>\n",
       "      <td>MILL CREEK POINT ASSISTED LIVING RESIDENCE</td>\n",
       "      <td>1</td>\n",
       "      <td>NaN</td>\n",
       "      <td>NaN</td>\n",
       "    </tr>\n",
       "    <tr>\n",
       "      <th>640</th>\n",
       "      <td>PRINCETON VILLAGE ASSISTED LIVING RESIDENCE</td>\n",
       "      <td>11</td>\n",
       "      <td>NaN</td>\n",
       "      <td>NaN</td>\n",
       "    </tr>\n",
       "  </tbody>\n",
       "</table>\n",
       "</div>"
      ],
      "text/plain": [
       "                                            name  count  \\\n",
       "434     KING CITY REHABILITATION & LIVING CENTER      7   \n",
       "295            ENCORE SENIOR VILLAGE AT PORTLAND      9   \n",
       "310         FAIR VIEW TRANSITIONAL HEALTH CENTER     10   \n",
       "769                ST. ELIZABETH HEALTH SERVICES     10   \n",
       "207                         COLUMBIA CARE CENTER     15   \n",
       "74     AVAMERE AT SANDY ASSISTED LIVING FACILITY      8   \n",
       "325       FLAGSTONE RETIREMENT & ASSISTED LIVING      4   \n",
       "527   MILL CREEK POINT ASSISTED LIVING RESIDENCE      1   \n",
       "640  PRINCETON VILLAGE ASSISTED LIVING RESIDENCE     11   \n",
       "\n",
       "                                     fac_name  abuse_number  \n",
       "434  KING CITY REHABILITATION & LIVING CENTER           6.0  \n",
       "295         ENCORE SENIOR VILLAGE AT PORTLAND           8.0  \n",
       "310      FAIR VIEW TRANSITIONAL HEALTH CENTER           9.0  \n",
       "769             ST. ELIZABETH HEALTH SERVICES           9.0  \n",
       "207                      COLUMBIA CARE CENTER          14.0  \n",
       "74                                        NaN           NaN  \n",
       "325                                       NaN           NaN  \n",
       "527                                       NaN           NaN  \n",
       "640                                       NaN           NaN  "
      ]
     },
     "execution_count": 13,
     "metadata": {},
     "output_type": "execute_result"
    }
   ],
   "source": [
    "merge1[merge1['count']!=merge1['abuse_number']].sort_values('abuse_number')#.sum()"
   ]
  },
  {
   "cell_type": "code",
   "execution_count": 14,
   "metadata": {},
   "outputs": [
    {
     "data": {
      "text/html": [
       "<div>\n",
       "<table border=\"1\" class=\"dataframe\">\n",
       "  <thead>\n",
       "    <tr style=\"text-align: right;\">\n",
       "      <th></th>\n",
       "      <th>name</th>\n",
       "      <th>count</th>\n",
       "    </tr>\n",
       "  </thead>\n",
       "  <tbody>\n",
       "    <tr>\n",
       "      <th>73</th>\n",
       "      <td>AVAMERE AT SANDY</td>\n",
       "      <td>8</td>\n",
       "    </tr>\n",
       "  </tbody>\n",
       "</table>\n",
       "</div>"
      ],
      "text/plain": [
       "                name  count\n",
       "73  AVAMERE AT SANDY      8"
      ]
     },
     "execution_count": 14,
     "metadata": {},
     "output_type": "execute_result"
    }
   ],
   "source": [
    "manual[manual['name']=='AVAMERE AT SANDY']"
   ]
  },
  {
   "cell_type": "code",
   "execution_count": 15,
   "metadata": {},
   "outputs": [
    {
     "data": {
      "text/html": [
       "<div>\n",
       "<table border=\"1\" class=\"dataframe\">\n",
       "  <thead>\n",
       "    <tr style=\"text-align: right;\">\n",
       "      <th></th>\n",
       "      <th>abuse_number</th>\n",
       "      <th>city_name</th>\n",
       "      <th>fac_name</th>\n",
       "      <th>fac_type</th>\n",
       "      <th>inv_comp_date</th>\n",
       "      <th>online_incident_date</th>\n",
       "    </tr>\n",
       "  </thead>\n",
       "  <tbody>\n",
       "    <tr>\n",
       "      <th>4214</th>\n",
       "      <td>BH116622B</td>\n",
       "      <td>CLACKAMAS</td>\n",
       "      <td>PRINCETON VILLAGE ASSISTED  LIVING RESIDENCE</td>\n",
       "      <td>ALF</td>\n",
       "      <td>11/22/2011</td>\n",
       "      <td>03/21/2011</td>\n",
       "    </tr>\n",
       "  </tbody>\n",
       "</table>\n",
       "</div>"
      ],
      "text/plain": [
       "     abuse_number  city_name                                      fac_name  \\\n",
       "4214    BH116622B  CLACKAMAS  PRINCETON VILLAGE ASSISTED  LIVING RESIDENCE   \n",
       "\n",
       "     fac_type inv_comp_date online_incident_date  \n",
       "4214      ALF    11/22/2011           03/21/2011  "
      ]
     },
     "execution_count": 15,
     "metadata": {},
     "output_type": "execute_result"
    }
   ],
   "source": [
    "scraped_comp[scraped_comp['abuse_number']=='BH116622B']"
   ]
  },
  {
   "cell_type": "code",
   "execution_count": 16,
   "metadata": {},
   "outputs": [
    {
     "data": {
      "text/html": [
       "<div>\n",
       "<table border=\"1\" class=\"dataframe\">\n",
       "  <thead>\n",
       "    <tr style=\"text-align: right;\">\n",
       "      <th></th>\n",
       "      <th>abuse_number</th>\n",
       "      <th>city_name</th>\n",
       "      <th>fac_name</th>\n",
       "      <th>fac_type</th>\n",
       "      <th>inv_comp_date</th>\n",
       "      <th>online_incident_date</th>\n",
       "    </tr>\n",
       "  </thead>\n",
       "  <tbody>\n",
       "    <tr>\n",
       "      <th>3526</th>\n",
       "      <td>DL150178</td>\n",
       "      <td>THE DALLES</td>\n",
       "      <td>FLAGSTONE RETIREMENT &amp; ASSISTED  LIVING</td>\n",
       "      <td>ALF</td>\n",
       "      <td>04/15/2015</td>\n",
       "      <td>02/05/2015</td>\n",
       "    </tr>\n",
       "    <tr>\n",
       "      <th>3527</th>\n",
       "      <td>DL133268</td>\n",
       "      <td>THE DALLES</td>\n",
       "      <td>FLAGSTONE RETIREMENT &amp; ASSISTED  LIVING</td>\n",
       "      <td>ALF</td>\n",
       "      <td>11/06/2013</td>\n",
       "      <td>05/18/2013</td>\n",
       "    </tr>\n",
       "    <tr>\n",
       "      <th>3528</th>\n",
       "      <td>DL121008</td>\n",
       "      <td>THE DALLES</td>\n",
       "      <td>FLAGSTONE RETIREMENT &amp; ASSISTED  LIVING</td>\n",
       "      <td>ALF</td>\n",
       "      <td>11/15/2012</td>\n",
       "      <td>09/05/2012</td>\n",
       "    </tr>\n",
       "    <tr>\n",
       "      <th>3529</th>\n",
       "      <td>DL061357</td>\n",
       "      <td>THE DALLES</td>\n",
       "      <td>FLAGSTONE RETIREMENT &amp; ASSISTED  LIVING</td>\n",
       "      <td>ALF</td>\n",
       "      <td>05/03/2006</td>\n",
       "      <td>03/19/2006</td>\n",
       "    </tr>\n",
       "  </tbody>\n",
       "</table>\n",
       "</div>"
      ],
      "text/plain": [
       "     abuse_number   city_name                                 fac_name  \\\n",
       "3526     DL150178  THE DALLES  FLAGSTONE RETIREMENT & ASSISTED  LIVING   \n",
       "3527     DL133268  THE DALLES  FLAGSTONE RETIREMENT & ASSISTED  LIVING   \n",
       "3528     DL121008  THE DALLES  FLAGSTONE RETIREMENT & ASSISTED  LIVING   \n",
       "3529     DL061357  THE DALLES  FLAGSTONE RETIREMENT & ASSISTED  LIVING   \n",
       "\n",
       "     fac_type inv_comp_date online_incident_date  \n",
       "3526      ALF    04/15/2015           02/05/2015  \n",
       "3527      ALF    11/06/2013           05/18/2013  \n",
       "3528      ALF    11/15/2012           09/05/2012  \n",
       "3529      ALF    05/03/2006           03/19/2006  "
      ]
     },
     "execution_count": 16,
     "metadata": {},
     "output_type": "execute_result"
    }
   ],
   "source": [
    "scraped_comp[scraped_comp['fac_name'].str.contains('FLAGSTONE RETIREME')]"
   ]
  },
  {
   "cell_type": "code",
   "execution_count": 17,
   "metadata": {
    "collapsed": true
   },
   "outputs": [],
   "source": [
    "merge2 = manual.merge(df, how = 'right', left_on = 'name', right_on='fac_name')"
   ]
  },
  {
   "cell_type": "code",
   "execution_count": 18,
   "metadata": {},
   "outputs": [
    {
     "data": {
      "text/html": [
       "<div>\n",
       "<table border=\"1\" class=\"dataframe\">\n",
       "  <thead>\n",
       "    <tr style=\"text-align: right;\">\n",
       "      <th></th>\n",
       "      <th>name</th>\n",
       "      <th>count</th>\n",
       "      <th>fac_name</th>\n",
       "      <th>abuse_number</th>\n",
       "    </tr>\n",
       "  </thead>\n",
       "  <tbody>\n",
       "    <tr>\n",
       "      <th>432</th>\n",
       "      <td>KING CITY REHABILITATION &amp; LIVING CENTER</td>\n",
       "      <td>7.0</td>\n",
       "      <td>KING CITY REHABILITATION &amp; LIVING CENTER</td>\n",
       "      <td>6</td>\n",
       "    </tr>\n",
       "    <tr>\n",
       "      <th>294</th>\n",
       "      <td>ENCORE SENIOR VILLAGE AT PORTLAND</td>\n",
       "      <td>9.0</td>\n",
       "      <td>ENCORE SENIOR VILLAGE AT PORTLAND</td>\n",
       "      <td>8</td>\n",
       "    </tr>\n",
       "    <tr>\n",
       "      <th>309</th>\n",
       "      <td>FAIR VIEW TRANSITIONAL HEALTH CENTER</td>\n",
       "      <td>10.0</td>\n",
       "      <td>FAIR VIEW TRANSITIONAL HEALTH CENTER</td>\n",
       "      <td>9</td>\n",
       "    </tr>\n",
       "    <tr>\n",
       "      <th>765</th>\n",
       "      <td>ST. ELIZABETH HEALTH SERVICES</td>\n",
       "      <td>10.0</td>\n",
       "      <td>ST. ELIZABETH HEALTH SERVICES</td>\n",
       "      <td>9</td>\n",
       "    </tr>\n",
       "    <tr>\n",
       "      <th>206</th>\n",
       "      <td>COLUMBIA CARE CENTER</td>\n",
       "      <td>15.0</td>\n",
       "      <td>COLUMBIA CARE CENTER</td>\n",
       "      <td>14</td>\n",
       "    </tr>\n",
       "    <tr>\n",
       "      <th>843</th>\n",
       "      <td>NaN</td>\n",
       "      <td>NaN</td>\n",
       "      <td>AVAMERE AT SANDY ASSISTED LIVING  FACILITY</td>\n",
       "      <td>8</td>\n",
       "    </tr>\n",
       "    <tr>\n",
       "      <th>844</th>\n",
       "      <td>NaN</td>\n",
       "      <td>NaN</td>\n",
       "      <td>FLAGSTONE RETIREMENT &amp; ASSISTED  LIVING</td>\n",
       "      <td>4</td>\n",
       "    </tr>\n",
       "    <tr>\n",
       "      <th>845</th>\n",
       "      <td>NaN</td>\n",
       "      <td>NaN</td>\n",
       "      <td>MILL CREEK POINT  ASSISTED LIVING RESIDENCE</td>\n",
       "      <td>1</td>\n",
       "    </tr>\n",
       "    <tr>\n",
       "      <th>846</th>\n",
       "      <td>NaN</td>\n",
       "      <td>NaN</td>\n",
       "      <td>PRINCETON VILLAGE ASSISTED  LIVING RESIDENCE</td>\n",
       "      <td>11</td>\n",
       "    </tr>\n",
       "  </tbody>\n",
       "</table>\n",
       "</div>"
      ],
      "text/plain": [
       "                                         name  count  \\\n",
       "432  KING CITY REHABILITATION & LIVING CENTER    7.0   \n",
       "294         ENCORE SENIOR VILLAGE AT PORTLAND    9.0   \n",
       "309      FAIR VIEW TRANSITIONAL HEALTH CENTER   10.0   \n",
       "765             ST. ELIZABETH HEALTH SERVICES   10.0   \n",
       "206                      COLUMBIA CARE CENTER   15.0   \n",
       "843                                       NaN    NaN   \n",
       "844                                       NaN    NaN   \n",
       "845                                       NaN    NaN   \n",
       "846                                       NaN    NaN   \n",
       "\n",
       "                                         fac_name  abuse_number  \n",
       "432      KING CITY REHABILITATION & LIVING CENTER             6  \n",
       "294             ENCORE SENIOR VILLAGE AT PORTLAND             8  \n",
       "309          FAIR VIEW TRANSITIONAL HEALTH CENTER             9  \n",
       "765                 ST. ELIZABETH HEALTH SERVICES             9  \n",
       "206                          COLUMBIA CARE CENTER            14  \n",
       "843    AVAMERE AT SANDY ASSISTED LIVING  FACILITY             8  \n",
       "844       FLAGSTONE RETIREMENT & ASSISTED  LIVING             4  \n",
       "845   MILL CREEK POINT  ASSISTED LIVING RESIDENCE             1  \n",
       "846  PRINCETON VILLAGE ASSISTED  LIVING RESIDENCE            11  "
      ]
     },
     "execution_count": 18,
     "metadata": {},
     "output_type": "execute_result"
    }
   ],
   "source": [
    "merge2[merge2['count']!=merge2['abuse_number']].sort_values('count')#.sum()"
   ]
  },
  {
   "cell_type": "markdown",
   "metadata": {},
   "source": [
    "<h2>Verdict: Scrape is good.</h2>"
   ]
  }
 ],
 "metadata": {
  "anaconda-cloud": {},
  "kernelspec": {
   "display_name": "Python 3",
   "language": "python",
   "name": "python3"
  },
  "language_info": {
   "codemirror_mode": {
    "name": "ipython",
    "version": 3
   },
   "file_extension": ".py",
   "mimetype": "text/x-python",
   "name": "python",
   "nbconvert_exporter": "python",
   "pygments_lexer": "ipython3",
   "version": "3.7.3"
  }
 },
 "nbformat": 4,
 "nbformat_minor": 1
}
